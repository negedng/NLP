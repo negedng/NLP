{
 "cells": [
  {
   "cell_type": "code",
   "execution_count": 1,
   "metadata": {
    "collapsed": false
   },
   "outputs": [
    {
     "name": "stderr",
     "output_type": "stream",
     "text": [
      "Using TensorFlow backend.\n"
     ]
    }
   ],
   "source": [
    "import pyphen\n",
    "import string\n",
    "import re\n",
    "import collections\n",
    "\n",
    "import numpy as np\n",
    "\n",
    "from keras.models import Sequential\n",
    "from keras.layers import Dense, Flatten, Conv1D, Embedding\n",
    "import keras\n",
    "\n",
    "import matplotlib.pyplot as plt\n",
    "%matplotlib inline\n",
    "\n",
    "np.random.seed(42)"
   ]
  },
  {
   "cell_type": "code",
   "execution_count": 2,
   "metadata": {
    "collapsed": false
   },
   "outputs": [],
   "source": [
    "%load_ext pep8_magic"
   ]
  },
  {
   "cell_type": "code",
   "execution_count": 2,
   "metadata": {
    "collapsed": false
   },
   "outputs": [],
   "source": [
    "hun_chars = 'aábcdeéfghiíjklmnoóöőpqrstuúüűvwxyz' + '^$'  # ^,$\n",
    "\n",
    "\n",
    "def hyph_tags(word, hypher=pyphen.Pyphen(lang='hu_HU'), aslist=False):\n",
    "    \"\"\"Hyphenating classification of the characters in the word.\n",
    "    {B(egin),M(iddle),E(nd),S(ingle)}\"\"\"\n",
    "    if (len(word) == 0):\n",
    "        raise IndexError(\"0 length word\")\n",
    "    ret = list('M' * len(word))\n",
    "    ret[0] = 'B'\n",
    "    ret[-1] = 'E'\n",
    "    for i in hypher.positions(word):\n",
    "        ret[i] = 'B'\n",
    "        if(ret[i-1] == 'B'):\n",
    "            ret[i-1] = 'S'\n",
    "        else:\n",
    "            ret[i-1] = 'E'\n",
    "    if (aslist):\n",
    "        return ret\n",
    "    return \"\".join(ret)\n",
    "\n",
    "\n",
    "def hyph_tags_4to2(word, aslist=False):\n",
    "    \"\"\"{B,M,E,S} to {B, M}\"\"\"\n",
    "    ret = list(word)\n",
    "    for i in range(len(ret)):\n",
    "        if ret[i] == 'S':\n",
    "            ret[i] = 'B'\n",
    "        if ret[i] != 'B':\n",
    "            ret[i] = 'M'\n",
    "    if(aslist):\n",
    "        return ret\n",
    "    return \"\".join(ret)\n",
    "\n",
    "\n",
    "def same_char_num(word, hypher=pyphen.Pyphen(lang='hu_HU')):\n",
    "    \"\"\"Return true if the hyphenated word has as many chars as the original\"\"\"\n",
    "    return len(hypher.inserted(word)) == len(word)+len(hypher.positions(word))\n",
    "\n",
    "\n",
    "def cleaning(data):\n",
    "    \"\"\"Text cleaning:\n",
    "        lower the letters\n",
    "        punctuation, digits ellimination\"\"\"\n",
    "    formated_data = data.lower()\n",
    "    formated_data = re.sub('['+string.punctuation+']', '', formated_data)\n",
    "    formated_data = re.sub('['+string.digits+']', '', formated_data)\n",
    "    return formated_data\n",
    "\n",
    "\n",
    "# onehot: {'B','M','E','S'}\n",
    "def one_hot_encode(char, dictionary='BMES'):\n",
    "    ret = [0]*len(dictionary)\n",
    "    if char in dictionary:\n",
    "        ret[dictionary.find(char)] = 1\n",
    "        return ret\n",
    "    raise ValueError('Value out of dictionary range: '+char)\n",
    "\n",
    "\n",
    "def unison_shuffled_copies(a, b):\n",
    "    \"\"\"Randomize 2 same length array in the same permutation\"\"\"\n",
    "    assert len(a) == len(b)\n",
    "    p = np.random.permutation(len(a))\n",
    "    return a[p], b[p]\n",
    "\n",
    "\n",
    "def one_hot_decode(arr, dictionary='BMES'):\n",
    "    assert len(arr) == len(dictionary)\n",
    "    i = np.nonzero(arr)[0][0]\n",
    "    return dictionary[i]\n",
    "\n",
    "\n",
    "def generate_network_data(data, ret_input=[], ret_output=[],\n",
    "                          length=2, length_after=0,\n",
    "                          start_char='^', end_char='$',\n",
    "                          chars=hun_chars, tag_chars='BMES'):\n",
    "    \"\"\"from [word,hyph_class(word) to length-long input-output data\"\"\"\n",
    "    word = data[0]\n",
    "    word_plus = start_char*(length-length_after-1)+word+end_char*length_after\n",
    "    hyph_word = data[1]\n",
    "    for i in range(0, len(word)):\n",
    "        input_next_iter = []\n",
    "        for c in word_plus[i:i+length]:\n",
    "            input_next_iter.append(one_hot_encode(c, chars))\n",
    "        output_next_iter = one_hot_encode(hyph_word[i], tag_chars)\n",
    "        ret_input.append(input_next_iter)\n",
    "        ret_output.append(output_next_iter)\n",
    "    return\n",
    "\n",
    "def generate_network_words(data, padding=None, start_char='^',\n",
    "                           end_char='$', chars=hun_chars,\n",
    "                           tag_chars='BMES', tag_default=-1):\n",
    "    \"\"\"One-hot [word, hyph_class(word)]->[[[010],[010]],[[01],[01]]]\n",
    "    padding to fixed size, if not null\"\"\"\n",
    "    ret_input=[]\n",
    "    ret_output=[]\n",
    "    \n",
    "    word = data[0]\n",
    "    hyph_word = data[1]\n",
    "    if padding != None:\n",
    "        if len(word)>padding:\n",
    "            raise IndexError(\"The word is longer than the fixed size\")\n",
    "        else:\n",
    "            word = word + (padding-len(word))*end_char\n",
    "            hyph_word = hyph_word + (padding-len(hyph_word)) * tag_chars[tag_default]\n",
    "    for i in range(0,len(word)):\n",
    "        input_next_iter = one_hot_encode(word[i],chars)\n",
    "        output_next_iter = one_hot_encode(hyph_word[i], tag_chars)\n",
    "        ret_input.append(input_next_iter)\n",
    "        ret_output.append(output_next_iter)\n",
    "    return ret_input, ret_output\n",
    "    \n",
    "def hyph_tupples(data, hypher=pyphen.Pyphen(lang='hu_HU'),\n",
    "                tag_chars='BM'):\n",
    "    \"\"\"[words] -> [words, hyph_words]\"\"\"\n",
    "    word_list = []\n",
    "    c_all = 0\n",
    "    c_same_char_num = 0\n",
    "    for next_word in data:\n",
    "        c_all += 1\n",
    "        if(len(next_word) != 0 and same_char_num(next_word, hypher)):\n",
    "            c_same_char_num += 1\n",
    "            if(len(tag_chars) == 2):\n",
    "                word_list.append([next_word,\n",
    "                                  hyph_tags_4to2(hyph_tags(next_word))])\n",
    "            else:\n",
    "                word_list.append([next_word, hyph_tags(next_word)])\n",
    "    return word_list, c_all, c_same_char_num\n",
    "\n",
    "def tupple_to_train(word_list, window_length, length_after,\n",
    "                 tag_chars='BM'):\n",
    "    \"\"\"[words, hyph_words] -> in[0,1,0...], out[0,1,0...]\"\"\"\n",
    "    data_in = []\n",
    "    data_out = []\n",
    "    wrong_word = 0\n",
    "    for word in word_list:\n",
    "        try:\n",
    "            generate_network_data(word, data_in, data_out,\n",
    "                                  window_length, tag_chars=tag_chars,\n",
    "                                  length_after=length_after)\n",
    "        except ValueError:\n",
    "            wrong_word += 1\n",
    "    return data_in, data_out, wrong_word\n",
    "\n",
    "def bigram_counter_from_file(filename):\n",
    "    \"\"\"creates bigram counter from file\"\"\"\n",
    "    with open(filename) as f:\n",
    "        word_list = []\n",
    "        for words in f:\n",
    "            words = words.strip()\n",
    "            words = words.split()\n",
    "            for w in words:\n",
    "                w = cleaning(w)\n",
    "                if len(w)>0:\n",
    "                    word_list.append(w)\n",
    "\n",
    "    bigram_counter = collections.Counter()\n",
    "    for word in word_list:\n",
    "        for i in range(2,len(word)):\n",
    "            bigram_counter[word[i-2:i]] += 1\n",
    "    return bigram_counter\n",
    "\n",
    "def bigrams_in_word(word, bigram_counter, mc=100):\n",
    "    bigrams = np.array(bigram_counter.most_common(mc))[:,0]\n",
    "    w_bc = len(word)-1\n",
    "    if w_bc<1:\n",
    "        return 1.0\n",
    "    w_bf = 0\n",
    "    for i in range(2,len(word)):\n",
    "        if word[i-2:i] in bigrams:\n",
    "            w_bf +=1\n",
    "    return w_bf/w_bc\n",
    "\n",
    "def bigram_selector(word, bigram_counters,threshold=0.2, mc=100):\n",
    "    \"\"\"Choose the language of the word\"\"\"\n",
    "    lang_likes = np.zeros(len(bigram_counters)+1)\n",
    "    for i in range(0,len(bigram_counters)):\n",
    "        lang_likes[i] = bigrams_in_word(word, bigram_counters[i], mc)\n",
    "    lang_likes_max = np.argmax(lang_likes)\n",
    "    \n",
    "    for i in range(0,len(bigram_counters)):\n",
    "        if i!=lang_likes_max:\n",
    "            if lang_likes[lang_likes_max]-lang_likes[i]<=threshold:\n",
    "                return len(bigram_counters)\n",
    "    return lang_likes_max"
   ]
  },
  {
   "cell_type": "markdown",
   "metadata": {},
   "source": [
    "# Data import"
   ]
  },
  {
   "cell_type": "code",
   "execution_count": 3,
   "metadata": {
    "collapsed": false
   },
   "outputs": [],
   "source": [
    "def data_reader(file, tail_cut=100000,\n",
    "                lang_selector = False, lang_thr=0.6,\n",
    "                lang_file_en='../wikipedia/angol/ossz_angol',\n",
    "                lang_file_hu='../wikipedia/magyar/ossz_magyar'):\n",
    "    \"\"\"Read data from file\"\"\"\n",
    "\n",
    "    if lang_selector:\n",
    "        bigram_counter_en = bigram_counter_from_file(lang_file_en)\n",
    "        bigram_counter_hu = bigram_counter_from_file(lang_file_hu)\n",
    "        out_en_words = 0\n",
    "    \n",
    "    tail_cut_ptest_words = tail_cut + 500\n",
    "\n",
    "    counter_hu_data = collections.Counter()\n",
    "    with open(file, 'r',\n",
    "              errors='ignore', encoding='latin2') as f:\n",
    "        i = 0\n",
    "        for line in f:\n",
    "            i = i+1\n",
    "            words = line.split()\n",
    "            if len(words) > 1:\n",
    "                if(words[1].isdigit()):\n",
    "                    cword = cleaning(words[0])\n",
    "                    if lang_selector:\n",
    "                        lang = bigram_selector(cword,\n",
    "                                            [bigram_counter_hu,\n",
    "                                             bigram_counter_en],\n",
    "                                            lang_thr)\n",
    "                        if (lang!=1):\n",
    "                            counter_hu_data[cword] += int(words[1])\n",
    "                        else:\n",
    "                            out_en_words +=1\n",
    "                    else:\n",
    "                        counter_hu_data[cword] += int(words[1])\n",
    "            if i > tail_cut_ptest_words:\n",
    "                break\n",
    "    if lang_selector:\n",
    "        print(\"Throwed english words: \", out_en_words)\n",
    "    return counter_hu_data"
   ]
  },
  {
   "cell_type": "code",
   "execution_count": 4,
   "metadata": {
    "collapsed": false
   },
   "outputs": [],
   "source": [
    "def train_data_generator(data_counter, window_length, length_after,\n",
    "                         tag_chars='BM', tail_cut=100000,\n",
    "                         valid_rate=0.2, test_rate=0.1):\n",
    "    \"\"\"Generate training data from counter data\n",
    "    unique words -> characters -> randomize -> cut\"\"\"\n",
    "\n",
    "    data_list = np.array(data_counter.most_common(tail_cut))[:,0]\n",
    "    word_list, c_all, c_same_char_num = hyph_tupples(data_list,\n",
    "                                                    tag_chars=tag_chars)\n",
    "    print('Data read successfully')\n",
    "    print('non-standard hyphenation:')\n",
    "    print(c_same_char_num, c_all, c_same_char_num/c_all)\n",
    "\n",
    "    # Generate network data\n",
    "    data_in = []\n",
    "    data_out = []\n",
    "    wrong_word = 0\n",
    "    data_in, data_out, wrong_word = tupple_to_train(word_list,\n",
    "                                                    window_length,\n",
    "                                                    length_after,\n",
    "                                                    tag_chars=tag_chars)\n",
    "    print('Data len: ', len(data_in))\n",
    "    print('Words with unrecognized caracter: ', wrong_word)\n",
    "\n",
    "    data_len = len(data_in)\n",
    "\n",
    "    data_in = np.array(data_in, dtype='float32')\n",
    "    data_out = np.array(data_out, dtype='float32')\n",
    "    data_in, data_out = unison_shuffled_copies(data_in, data_out)\n",
    "    tests_input = data_in[0:int(data_len*test_rate)]\n",
    "    tests_target = data_out[0:int(data_len*test_rate)]\n",
    "    valid_input = data_in[int(data_len*test_rate):\n",
    "                          int(data_len*(test_rate+valid_rate))]\n",
    "    valid_target = data_out[int(data_len*test_rate):\n",
    "                            int(data_len*(test_rate+valid_rate))]\n",
    "    train_input = data_in[int(data_len*(test_rate+valid_rate)):]\n",
    "    train_target = data_out[int(data_len*(test_rate+valid_rate)):]\n",
    "\n",
    "    print('Training data size:', np.shape(train_input), np.shape(train_target))\n",
    "    print('Validation data size:', np.shape(valid_input),\n",
    "          np.shape(valid_target))\n",
    "    print('Test data size:', np.shape(tests_input), np.shape(tests_target))\n",
    "\n",
    "    train_input_flatten = np.reshape(\n",
    "        train_input, (len(train_input), (window_length)*len(hun_chars)))\n",
    "    valid_input_flatten = np.reshape(\n",
    "        valid_input, (len(valid_input), (window_length)*len(hun_chars)))\n",
    "    tests_input_flatten = np.reshape(\n",
    "        tests_input, (len(tests_input), (window_length)*len(hun_chars)))\n",
    "    print('Network data generated successfully')\n",
    "\n",
    "    return [train_input_flatten, train_target,\n",
    "            valid_input_flatten, valid_target,\n",
    "            tests_input_flatten, tests_target]\n",
    "\n",
    "\n",
    "def train_data_generator_uwords(data_counter, window_length, length_after,\n",
    "                                tag_chars='BM', tail_cut=100000,\n",
    "                                valid_rate=0.2, test_rate=0.1):\n",
    "    \"\"\"Generate training data from counter data\n",
    "        unique words -> randomize -> cut -> characters\"\"\"\n",
    "    data_list = np.array(data_counter.most_common(tail_cut))[:,0]\n",
    "    np.random.shuffle(data_list)\n",
    "    data_len = len(data_list)\n",
    "    tests_data = data_list[0:int(data_len*test_rate)]\n",
    "    valid_data = data_list[int(data_len*test_rate):\n",
    "                           int(data_len*(test_rate+valid_rate))]\n",
    "    train_data = data_list[int(data_len*(test_rate+valid_rate)):]\n",
    "    \n",
    "    c_all = 0\n",
    "    c_same_char_num = 0\n",
    "    tests_list, c_all_p, c_same_char_num_p = hyph_tupples(tests_data,\n",
    "                                                          tag_chars=tag_chars)\n",
    "    c_all += c_all_p\n",
    "    c_same_char_num += c_same_char_num_p\n",
    "    valid_list, c_all_p, c_same_char_num_p = hyph_tupples(valid_data,\n",
    "                                                          tag_chars=tag_chars)\n",
    "    c_all += c_all_p\n",
    "    c_same_char_num += c_same_char_num_p\n",
    "    train_list, c_all_p, c_same_char_num_p = hyph_tupples(train_data,\n",
    "                                                          tag_chars=tag_chars)\n",
    "    c_all += c_all_p\n",
    "    c_same_char_num += c_same_char_num_p\n",
    "    \n",
    "    print('Data read successfully')\n",
    "    print('non-standard hyphenation:')\n",
    "    print(c_same_char_num, c_all, c_same_char_num/c_all)\n",
    "    \n",
    "    wrong_word = 0\n",
    "    tests_input, tests_target, wrong_w_p = tupple_to_train(tests_list,\n",
    "                                                           window_length,\n",
    "                                                           length_after,\n",
    "                                                           tag_chars=tag_chars)\n",
    "    wrong_word += wrong_w_p\n",
    "    valid_input, valid_target, wrong_w_p = tupple_to_train(valid_list,\n",
    "                                                           window_length,\n",
    "                                                           length_after,\n",
    "                                                           tag_chars=tag_chars)\n",
    "    wrong_word += wrong_w_p\n",
    "    train_input, train_target, wrong_w_p = tupple_to_train(train_list,\n",
    "                                                           window_length,\n",
    "                                                           length_after,\n",
    "                                                           tag_chars=tag_chars)\n",
    "    wrong_word += wrong_w_p\n",
    "    print('Words with unrecognized caracter: ', wrong_word)\n",
    "\n",
    "    print('Training data size:', np.shape(train_input), np.shape(train_target))\n",
    "    print('Validation data size:', np.shape(valid_input),\n",
    "          np.shape(valid_target))\n",
    "    print('Test data size:', np.shape(tests_input), np.shape(tests_target))\n",
    "\n",
    "    train_input_flatten = np.reshape(\n",
    "        train_input, (len(train_input), (window_length)*len(hun_chars)))\n",
    "    valid_input_flatten = np.reshape(\n",
    "        valid_input, (len(valid_input), (window_length)*len(hun_chars)))\n",
    "    tests_input_flatten = np.reshape(\n",
    "        tests_input, (len(tests_input), (window_length)*len(hun_chars)))\n",
    "    print('Network data generated successfully')\n",
    "\n",
    "    return [train_input_flatten, train_target,\n",
    "            valid_input_flatten, valid_target,\n",
    "            tests_input_flatten, tests_target]\n",
    "    \n",
    "\n",
    "def train_data_generator_uchars(data_counter, window_length, length_after,\n",
    "                                tag_chars='BM', tail_cut=100000,\n",
    "                                valid_rate=0.2, test_rate=0.1):\n",
    "    \"\"\"Generate training data from counter data\n",
    "        unique words -> characters -> unique -> randomize -> cut\"\"\"\n",
    "    data_list = np.array(data_counter.most_common(tail_cut))[:,0]\n",
    "    word_list, c_all, c_same_char_num = hyph_tupples(data_list,\n",
    "                                                    tag_chars=tag_chars)\n",
    "    print('Data read successfully')\n",
    "    print('non-standard hyphenation:')\n",
    "    print(c_same_char_num, c_all, c_same_char_num/c_all)\n",
    "\n",
    "    # Generate network data\n",
    "    data_in = []\n",
    "    data_out = []\n",
    "    wrong_word = 0\n",
    "    data_in, data_out, wrong_word = tupple_to_train(word_list,\n",
    "                                                    window_length,\n",
    "                                                    length_after,\n",
    "                                                    tag_chars=tag_chars)\n",
    "    print('Data len: ', len(data_in))\n",
    "    print('Words with unrecognized caracter: ', wrong_word)\n",
    "\n",
    "    #Unique\n",
    "    data_len = len(data_in)\n",
    "\n",
    "    data_in = np.array(data_in, dtype='float32')\n",
    "    data_out = np.array(data_out, dtype='float32')\n",
    "    \n",
    "    shape_in = np.shape(data_in)\n",
    "    shape_out = np.shape(data_out)\n",
    "    \n",
    "    data_in_flatten = np.reshape(\n",
    "        data_in, (shape_in[0], shape_in[1]*shape_in[2]))\n",
    "    shape_in_flatten = np.shape(data_in_flatten)\n",
    "    \n",
    "    data_iosum = np.concatenate((data_in_flatten, data_out), axis=1)\n",
    "    data_iosum_unique = np.vstack({tuple(row) for row in data_iosum})\n",
    "    \n",
    "    data_in = data_iosum_unique[:,:-shape_out[1]]\n",
    "    data_out = data_iosum_unique[:,-shape_out[1]:]\n",
    "    print('Data unique len: ', np.shape(data_iosum_unique)[0])\n",
    "    \n",
    "    data_len = len(data_in)\n",
    "    data_in, data_out = unison_shuffled_copies(data_in, data_out)\n",
    "    tests_input = data_in[0:int(data_len*test_rate)]\n",
    "    tests_target = data_out[0:int(data_len*test_rate)]\n",
    "    valid_input = data_in[int(data_len*test_rate):\n",
    "                          int(data_len*(test_rate+valid_rate))]\n",
    "    valid_target = data_out[int(data_len*test_rate):\n",
    "                            int(data_len*(test_rate+valid_rate))]\n",
    "    train_input = data_in[int(data_len*(test_rate+valid_rate)):]\n",
    "    train_target = data_out[int(data_len*(test_rate+valid_rate)):]\n",
    "\n",
    "    print('Training data size:', np.shape(train_input), np.shape(train_target))\n",
    "    print('Validation data size:', np.shape(valid_input),\n",
    "          np.shape(valid_target))\n",
    "    print('Test data size:', np.shape(tests_input), np.shape(tests_target))\n",
    "\n",
    "    train_input_flatten = np.reshape(\n",
    "        train_input, (len(train_input), (window_length)*len(hun_chars)))\n",
    "    valid_input_flatten = np.reshape(\n",
    "        valid_input, (len(valid_input), (window_length)*len(hun_chars)))\n",
    "    tests_input_flatten = np.reshape(\n",
    "        tests_input, (len(tests_input), (window_length)*len(hun_chars)))\n",
    "    print('Network data generated successfully')\n",
    "\n",
    "    return [train_input_flatten, train_target,\n",
    "            valid_input_flatten, valid_target,\n",
    "            tests_input_flatten, tests_target]\n",
    "    "
   ]
  },
  {
   "cell_type": "code",
   "execution_count": 5,
   "metadata": {
    "collapsed": true
   },
   "outputs": [],
   "source": [
    "def train_data_words(data_counter, tag_chars='BM', padding = 30, tail_cut=100000,\n",
    "                     valid_rate=0.2, test_rate=0.1):\n",
    "    \"\"\"Training data, example: alma -> {[[1,0..][0,0..][0,0...][0,0...]],[[1,0],[0,1][1,0][0,1]]}\"\"\"\n",
    "    data_list = np.array(data_counter.most_common(tail_cut))[:,0]\n",
    "    word_list, c_all, c_same_char_num = hyph_tupples(data_list,\n",
    "                                                    tag_chars=tag_chars)\n",
    "    print('Data read successfully')\n",
    "    print('non-standard hyphenation:')\n",
    "    print(c_same_char_num, c_all, c_same_char_num/c_all)\n",
    "    \n",
    "    # Generate network data\n",
    "    data_in = []\n",
    "    data_out = []\n",
    "    wrong_word = 0\n",
    "    long_word = 0\n",
    "    for word in word_list:\n",
    "        try:\n",
    "            next_data_in, next_data_out = generate_network_words(word, padding = padding, tag_chars=tag_chars)\n",
    "            next_data_in = np.array(next_data_in, dtype='float32')\n",
    "            next_data_out = np.array(next_data_out, dtype='float32')\n",
    "            data_in.append(next_data_in)\n",
    "            data_out.append(next_data_out)\n",
    "        except ValueError:\n",
    "            wrong_word += 1\n",
    "        except IndexError:\n",
    "            long_word += 1\n",
    "            \n",
    "    print('Data len: ', len(data_in))\n",
    "    print('Words with unrecognized caracter: ', wrong_word)\n",
    "    print('Words longer than the padding: ', long_word)\n",
    "    \n",
    "    data_in = np.array(data_in)\n",
    "    data_out = np.array(data_out)\n",
    "    \n",
    "    data_len = len(data_in)\n",
    "    data_in, data_out = unison_shuffled_copies(data_in, data_out)\n",
    "    \n",
    "    datas = {}\n",
    "    \n",
    "    datas[\"tests_input\"] = data_in[0:int(data_len*test_rate)]\n",
    "    datas[\"tests_target\"] = data_out[0:int(data_len*test_rate)]\n",
    "    datas[\"valid_input\"] = data_in[int(data_len*test_rate):\n",
    "                                   int(data_len*(test_rate+valid_rate))]\n",
    "    datas[\"valid_target\"] = data_out[int(data_len*test_rate):\n",
    "                                     int(data_len*(test_rate+valid_rate))]\n",
    "    datas[\"train_input\"] = data_in[int(data_len*(test_rate+valid_rate)):]\n",
    "    datas[\"train_target\"] = data_out[int(data_len*(test_rate+valid_rate)):]\n",
    "    \n",
    "    return datas, wrong_word, long_word"
   ]
  },
  {
   "cell_type": "code",
   "execution_count": 11,
   "metadata": {
    "collapsed": false
   },
   "outputs": [],
   "source": [
    "#print(data_in[0:10],data_out[0:10])"
   ]
  },
  {
   "cell_type": "code",
   "execution_count": null,
   "metadata": {
    "collapsed": false
   },
   "outputs": [],
   "source": []
  },
  {
   "cell_type": "markdown",
   "metadata": {},
   "source": [
    "# Models"
   ]
  },
  {
   "cell_type": "code",
   "execution_count": 8,
   "metadata": {
    "collapsed": false
   },
   "outputs": [],
   "source": [
    "def model_creator_dnn(window_length, output_length, num_layers=1,\n",
    "                  num_hidden=10, chars=hun_chars):\n",
    "    \"\"\"Creates Keras model with the given input, output dimensions\n",
    "    and layer number, hidden layer length\"\"\"\n",
    "    \n",
    "    input_shape = window_length*len(chars)\n",
    "    \n",
    "    model = Sequential()\n",
    "    \n",
    "    model.add(Dense(input_dim=(input_shape),\n",
    "                    units=num_hidden, name='input_layer',\n",
    "                    activation='sigmoid'))\n",
    "    for i in range(1, num_layers):\n",
    "        model.add(Dense(units=num_hidden, activation='sigmoid'))\n",
    "\n",
    "    # model.add(Flatten())\n",
    "    model.add(Dense(output_length, name='output_layer', activation='softmax'))\n",
    "\n",
    "    if(output_length == 2):\n",
    "        model.compile(loss='binary_crossentropy', optimizer='adam')\n",
    "    else:\n",
    "        model.compile(loss='categorical_crossentropy', optimizer='adam')\n",
    "    return model\n",
    "\n",
    "def model_creator_cnn(output_length,kernel_size=10, strides=1, word_length = 30, chars=hun_chars):\n",
    "    \"\"\"Creates Keras CNN model\"\"\"\n",
    "\n",
    "    model = Sequential()\n",
    "    \n",
    "    model.add(Conv1D(516,kernel_size, strides=strides, padding=\"same\",\n",
    "                     activation='relu', input_shape=(word_length, len(chars))))\n",
    "    \n",
    "\n",
    "\n",
    "    model.add(Dense((output_length), name = 'output_layer', activation='softmax'))\n",
    "    \n",
    "    if(output_length == 2):\n",
    "        model.compile(loss='binary_crossentropy', optimizer='adam')\n",
    "    else:\n",
    "        model.compile(loss='categorical_crossentropy', optimizer='adam')\n",
    "    return model"
   ]
  },
  {
   "cell_type": "code",
   "execution_count": 10,
   "metadata": {
    "collapsed": false
   },
   "outputs": [],
   "source": []
  },
  {
   "cell_type": "markdown",
   "metadata": {},
   "source": [
    "# Main"
   ]
  },
  {
   "cell_type": "code",
   "execution_count": 6,
   "metadata": {
    "collapsed": false
   },
   "outputs": [
    {
     "name": "stdout",
     "output_type": "stream",
     "text": [
      "Data read successfully\n",
      "non-standard hyphenation:\n",
      "82563 83678 0.9866751117378523\n",
      "Data len:  81910\n",
      "Words with unrecognized caracter:  646\n",
      "Words longer than the padding:  7\n",
      "(57337, 30, 37) (16382, 30, 37) (8191, 30, 37)\n"
     ]
    }
   ],
   "source": [
    "padding = 30\n",
    "tail_cut = 100000\n",
    "window_length = 7\n",
    "length_after = 3\n",
    "tag_chars = 'BM'\n",
    "num_layers = 5\n",
    "num_hidden = 110\n",
    "\n",
    "# Data read and network data generate\n",
    "counter_hu_data = data_reader('web2.2-freq-sorted.txt',tail_cut, lang_selector=False)\n",
    "\n",
    "datas, wrong_words, long_word = train_data_words(counter_hu_data, tag_chars,\n",
    "                                                             padding, tail_cut)\n",
    "\n",
    "tests_input_cnn = datas[\"tests_input\"]\n",
    "tests_target_cnn = datas[\"tests_target\"]\n",
    "valid_input_cnn = datas[\"valid_input\"]\n",
    "valid_target_cnn = datas[\"valid_target\"]\n",
    "train_input_cnn = datas[\"train_input\"]\n",
    "train_target_cnn = datas[\"train_target\"]\n",
    "\n",
    "print(np.shape(train_input_cnn), np.shape(valid_input_cnn), np.shape(tests_input_cnn))"
   ]
  },
  {
   "cell_type": "code",
   "execution_count": 11,
   "metadata": {
    "collapsed": false
   },
   "outputs": [
    {
     "name": "stdout",
     "output_type": "stream",
     "text": [
      "Data read successfully\n",
      "non-standard hyphenation:\n",
      "82563 83678 0.9866751117378523\n",
      "Words with unrecognized caracter:  646\n",
      "Training data size: (488431, 7, 37) (488431, 2)\n",
      "Validation data size: (139952, 7, 37) (139952, 2)\n",
      "Test data size: (69926, 7, 37) (69926, 2)\n",
      "Network data generated successfully\n"
     ]
    }
   ],
   "source": [
    "tail_cut = 100000\n",
    "window_length = 7\n",
    "length_after = 3\n",
    "tag_chars = 'BM'\n",
    "num_layers = 5\n",
    "num_hidden = 110\n",
    "\n",
    "# Data read and network data generate\n",
    "counter_hu_data = data_reader('web2.2-freq-sorted.txt',tail_cut, lang_selector=False)\n",
    "[train_input_flatten, train_target,\n",
    " valid_input_flatten, valid_target,\n",
    " tests_input_flatten,\n",
    " tests_target] = train_data_generator_uwords(counter_hu_data,\n",
    "                                             window_length,\n",
    "                                             length_after,\n",
    "                                             tag_chars,\n",
    "                                             tail_cut)\n",
    "\n",
    "#train_input_flatten_p1 = np.expand_dims(train_input_flatten, axis=1) # reshape (X, 1, 259) \n",
    "#valid_input_flatten_p1 = np.expand_dims(valid_input_flatten, axis=1)\n",
    "#tests_input_flatten_p1 = np.expand_dims(tests_input_flatten, axis=1)"
   ]
  },
  {
   "cell_type": "code",
   "execution_count": 9,
   "metadata": {
    "collapsed": false
   },
   "outputs": [
    {
     "name": "stdout",
     "output_type": "stream",
     "text": [
      "Models created. Start training\n"
     ]
    }
   ],
   "source": [
    "# Creating the keras model\n",
    "model_dnn = model_creator_dnn(window_length, len(tag_chars),\n",
    "                      num_layers, num_hidden)\n",
    "\n",
    "earlyStopping_dnn = keras.callbacks.EarlyStopping(\n",
    "    monitor='val_loss', patience=20, verbose=0, mode='auto')\n",
    "\n",
    "model_cnn = model_creator_cnn(len(tag_chars))\n",
    "\n",
    "earlyStopping_cnn = keras.callbacks.EarlyStopping(\n",
    "    monitor='val_loss', patience=5, verbose=0, mode='auto')\n",
    "\n",
    "print('Models created. Start training')\n"
   ]
  },
  {
   "cell_type": "code",
   "execution_count": 10,
   "metadata": {
    "collapsed": false
   },
   "outputs": [
    {
     "ename": "ImportError",
     "evalue": "Failed to import pydot. You must install pydot and graphviz for `pydotprint` to work.",
     "output_type": "error",
     "traceback": [
      "\u001b[0;31m---------------------------------------------------------------------------\u001b[0m",
      "\u001b[0;31mImportError\u001b[0m                               Traceback (most recent call last)",
      "\u001b[0;32m<ipython-input-10-f0425cd985d9>\u001b[0m in \u001b[0;36m<module>\u001b[0;34m()\u001b[0m\n\u001b[1;32m      1\u001b[0m \u001b[0;32mfrom\u001b[0m \u001b[0mkeras\u001b[0m\u001b[0;34m.\u001b[0m\u001b[0mutils\u001b[0m \u001b[0;32mimport\u001b[0m \u001b[0mplot_model\u001b[0m\u001b[0;34m\u001b[0m\u001b[0m\n\u001b[0;32m----> 2\u001b[0;31m \u001b[0mplot_model\u001b[0m\u001b[0;34m(\u001b[0m\u001b[0mmodel_cnn\u001b[0m\u001b[0;34m,\u001b[0m \u001b[0mto_file\u001b[0m\u001b[0;34m=\u001b[0m\u001b[0;34m'model.png'\u001b[0m\u001b[0;34m,\u001b[0m \u001b[0mshow_shapes\u001b[0m\u001b[0;34m=\u001b[0m\u001b[0;32mTrue\u001b[0m\u001b[0;34m)\u001b[0m\u001b[0;34m\u001b[0m\u001b[0m\n\u001b[0m",
      "\u001b[0;32m/usr/local/lib/python3.5/dist-packages/keras/utils/vis_utils.py\u001b[0m in \u001b[0;36mplot_model\u001b[0;34m(model, to_file, show_shapes, show_layer_names)\u001b[0m\n\u001b[1;32m     98\u001b[0m                \u001b[0mshow_shapes\u001b[0m\u001b[0;34m=\u001b[0m\u001b[0;32mFalse\u001b[0m\u001b[0;34m,\u001b[0m\u001b[0;34m\u001b[0m\u001b[0m\n\u001b[1;32m     99\u001b[0m                show_layer_names=True):\n\u001b[0;32m--> 100\u001b[0;31m     \u001b[0mdot\u001b[0m \u001b[0;34m=\u001b[0m \u001b[0mmodel_to_dot\u001b[0m\u001b[0;34m(\u001b[0m\u001b[0mmodel\u001b[0m\u001b[0;34m,\u001b[0m \u001b[0mshow_shapes\u001b[0m\u001b[0;34m,\u001b[0m \u001b[0mshow_layer_names\u001b[0m\u001b[0;34m)\u001b[0m\u001b[0;34m\u001b[0m\u001b[0m\n\u001b[0m\u001b[1;32m    101\u001b[0m     \u001b[0m_\u001b[0m\u001b[0;34m,\u001b[0m \u001b[0mextension\u001b[0m \u001b[0;34m=\u001b[0m \u001b[0mos\u001b[0m\u001b[0;34m.\u001b[0m\u001b[0mpath\u001b[0m\u001b[0;34m.\u001b[0m\u001b[0msplitext\u001b[0m\u001b[0;34m(\u001b[0m\u001b[0mto_file\u001b[0m\u001b[0;34m)\u001b[0m\u001b[0;34m\u001b[0m\u001b[0m\n\u001b[1;32m    102\u001b[0m     \u001b[0;32mif\u001b[0m \u001b[0;32mnot\u001b[0m \u001b[0mextension\u001b[0m\u001b[0;34m:\u001b[0m\u001b[0;34m\u001b[0m\u001b[0m\n",
      "\u001b[0;32m/usr/local/lib/python3.5/dist-packages/keras/utils/vis_utils.py\u001b[0m in \u001b[0;36mmodel_to_dot\u001b[0;34m(model, show_shapes, show_layer_names)\u001b[0m\n\u001b[1;32m     33\u001b[0m     \u001b[0;32mfrom\u001b[0m \u001b[0;34m.\u001b[0m\u001b[0;34m.\u001b[0m\u001b[0mmodels\u001b[0m \u001b[0;32mimport\u001b[0m \u001b[0mSequential\u001b[0m\u001b[0;34m\u001b[0m\u001b[0m\n\u001b[1;32m     34\u001b[0m \u001b[0;34m\u001b[0m\u001b[0m\n\u001b[0;32m---> 35\u001b[0;31m     \u001b[0m_check_pydot\u001b[0m\u001b[0;34m(\u001b[0m\u001b[0;34m)\u001b[0m\u001b[0;34m\u001b[0m\u001b[0m\n\u001b[0m\u001b[1;32m     36\u001b[0m     \u001b[0mdot\u001b[0m \u001b[0;34m=\u001b[0m \u001b[0mpydot\u001b[0m\u001b[0;34m.\u001b[0m\u001b[0mDot\u001b[0m\u001b[0;34m(\u001b[0m\u001b[0;34m)\u001b[0m\u001b[0;34m\u001b[0m\u001b[0m\n\u001b[1;32m     37\u001b[0m     \u001b[0mdot\u001b[0m\u001b[0;34m.\u001b[0m\u001b[0mset\u001b[0m\u001b[0;34m(\u001b[0m\u001b[0;34m'rankdir'\u001b[0m\u001b[0;34m,\u001b[0m \u001b[0;34m'TB'\u001b[0m\u001b[0;34m)\u001b[0m\u001b[0;34m\u001b[0m\u001b[0m\n",
      "\u001b[0;32m/usr/local/lib/python3.5/dist-packages/keras/utils/vis_utils.py\u001b[0m in \u001b[0;36m_check_pydot\u001b[0;34m()\u001b[0m\n\u001b[1;32m     15\u001b[0m \u001b[0;32mdef\u001b[0m \u001b[0m_check_pydot\u001b[0m\u001b[0;34m(\u001b[0m\u001b[0;34m)\u001b[0m\u001b[0;34m:\u001b[0m\u001b[0;34m\u001b[0m\u001b[0m\n\u001b[1;32m     16\u001b[0m     \u001b[0;32mif\u001b[0m \u001b[0;32mnot\u001b[0m \u001b[0;34m(\u001b[0m\u001b[0mpydot\u001b[0m \u001b[0;32mand\u001b[0m \u001b[0mpydot\u001b[0m\u001b[0;34m.\u001b[0m\u001b[0mfind_graphviz\u001b[0m\u001b[0;34m(\u001b[0m\u001b[0;34m)\u001b[0m\u001b[0;34m)\u001b[0m\u001b[0;34m:\u001b[0m\u001b[0;34m\u001b[0m\u001b[0m\n\u001b[0;32m---> 17\u001b[0;31m         raise ImportError('Failed to import pydot. You must install pydot'\n\u001b[0m\u001b[1;32m     18\u001b[0m                           ' and graphviz for `pydotprint` to work.')\n\u001b[1;32m     19\u001b[0m \u001b[0;34m\u001b[0m\u001b[0m\n",
      "\u001b[0;31mImportError\u001b[0m: Failed to import pydot. You must install pydot and graphviz for `pydotprint` to work."
     ]
    }
   ],
   "source": [
    "from keras.utils import plot_model\n",
    "plot_model(model_cnn, to_file='model.png', show_shapes=True)"
   ]
  },
  {
   "cell_type": "code",
   "execution_count": 11,
   "metadata": {
    "collapsed": false
   },
   "outputs": [],
   "source": [
    "history_cnn = model_cnn.fit(train_input_cnn, train_target_cnn,\n",
    "                    epochs=1, batch_size=1024,\n",
    "                    validation_data=(valid_input_cnn, valid_target_cnn),\n",
    "                    verbose=0, callbacks=[earlyStopping_cnn])"
   ]
  },
  {
   "cell_type": "code",
   "execution_count": 13,
   "metadata": {
    "collapsed": false
   },
   "outputs": [
    {
     "ename": "KeyboardInterrupt",
     "evalue": "",
     "output_type": "error",
     "traceback": [
      "\u001b[0;31m---------------------------------------------------------------------------\u001b[0m",
      "\u001b[0;31mKeyboardInterrupt\u001b[0m                         Traceback (most recent call last)",
      "\u001b[0;32m<ipython-input-13-23bc9086eb86>\u001b[0m in \u001b[0;36m<module>\u001b[0;34m()\u001b[0m\n\u001b[1;32m      2\u001b[0m                     \u001b[0mepochs\u001b[0m\u001b[0;34m=\u001b[0m\u001b[0;36m1000\u001b[0m\u001b[0;34m,\u001b[0m \u001b[0mbatch_size\u001b[0m\u001b[0;34m=\u001b[0m\u001b[0;36m1024\u001b[0m\u001b[0;34m,\u001b[0m\u001b[0;34m\u001b[0m\u001b[0m\n\u001b[1;32m      3\u001b[0m                     \u001b[0mvalidation_data\u001b[0m\u001b[0;34m=\u001b[0m\u001b[0;34m(\u001b[0m\u001b[0mvalid_input_flatten\u001b[0m\u001b[0;34m,\u001b[0m \u001b[0mvalid_target\u001b[0m\u001b[0;34m)\u001b[0m\u001b[0;34m,\u001b[0m\u001b[0;34m\u001b[0m\u001b[0m\n\u001b[0;32m----> 4\u001b[0;31m                     verbose=0, callbacks=[earlyStopping_dnn])\n\u001b[0m",
      "\u001b[0;32m/usr/local/lib/python3.5/dist-packages/keras/models.py\u001b[0m in \u001b[0;36mfit\u001b[0;34m(self, x, y, batch_size, epochs, verbose, callbacks, validation_split, validation_data, shuffle, class_weight, sample_weight, initial_epoch, **kwargs)\u001b[0m\n\u001b[1;32m    854\u001b[0m                               \u001b[0mclass_weight\u001b[0m\u001b[0;34m=\u001b[0m\u001b[0mclass_weight\u001b[0m\u001b[0;34m,\u001b[0m\u001b[0;34m\u001b[0m\u001b[0m\n\u001b[1;32m    855\u001b[0m                               \u001b[0msample_weight\u001b[0m\u001b[0;34m=\u001b[0m\u001b[0msample_weight\u001b[0m\u001b[0;34m,\u001b[0m\u001b[0;34m\u001b[0m\u001b[0m\n\u001b[0;32m--> 856\u001b[0;31m                               initial_epoch=initial_epoch)\n\u001b[0m\u001b[1;32m    857\u001b[0m \u001b[0;34m\u001b[0m\u001b[0m\n\u001b[1;32m    858\u001b[0m     def evaluate(self, x, y, batch_size=32, verbose=1,\n",
      "\u001b[0;32m/usr/local/lib/python3.5/dist-packages/keras/engine/training.py\u001b[0m in \u001b[0;36mfit\u001b[0;34m(self, x, y, batch_size, epochs, verbose, callbacks, validation_split, validation_data, shuffle, class_weight, sample_weight, initial_epoch, **kwargs)\u001b[0m\n\u001b[1;32m   1496\u001b[0m                               \u001b[0mval_f\u001b[0m\u001b[0;34m=\u001b[0m\u001b[0mval_f\u001b[0m\u001b[0;34m,\u001b[0m \u001b[0mval_ins\u001b[0m\u001b[0;34m=\u001b[0m\u001b[0mval_ins\u001b[0m\u001b[0;34m,\u001b[0m \u001b[0mshuffle\u001b[0m\u001b[0;34m=\u001b[0m\u001b[0mshuffle\u001b[0m\u001b[0;34m,\u001b[0m\u001b[0;34m\u001b[0m\u001b[0m\n\u001b[1;32m   1497\u001b[0m                               \u001b[0mcallback_metrics\u001b[0m\u001b[0;34m=\u001b[0m\u001b[0mcallback_metrics\u001b[0m\u001b[0;34m,\u001b[0m\u001b[0;34m\u001b[0m\u001b[0m\n\u001b[0;32m-> 1498\u001b[0;31m                               initial_epoch=initial_epoch)\n\u001b[0m\u001b[1;32m   1499\u001b[0m \u001b[0;34m\u001b[0m\u001b[0m\n\u001b[1;32m   1500\u001b[0m     \u001b[0;32mdef\u001b[0m \u001b[0mevaluate\u001b[0m\u001b[0;34m(\u001b[0m\u001b[0mself\u001b[0m\u001b[0;34m,\u001b[0m \u001b[0mx\u001b[0m\u001b[0;34m,\u001b[0m \u001b[0my\u001b[0m\u001b[0;34m,\u001b[0m \u001b[0mbatch_size\u001b[0m\u001b[0;34m=\u001b[0m\u001b[0;36m32\u001b[0m\u001b[0;34m,\u001b[0m \u001b[0mverbose\u001b[0m\u001b[0;34m=\u001b[0m\u001b[0;36m1\u001b[0m\u001b[0;34m,\u001b[0m \u001b[0msample_weight\u001b[0m\u001b[0;34m=\u001b[0m\u001b[0;32mNone\u001b[0m\u001b[0;34m)\u001b[0m\u001b[0;34m:\u001b[0m\u001b[0;34m\u001b[0m\u001b[0m\n",
      "\u001b[0;32m/usr/local/lib/python3.5/dist-packages/keras/engine/training.py\u001b[0m in \u001b[0;36m_fit_loop\u001b[0;34m(self, f, ins, out_labels, batch_size, epochs, verbose, callbacks, val_f, val_ins, shuffle, callback_metrics, initial_epoch)\u001b[0m\n\u001b[1;32m   1150\u001b[0m                 \u001b[0mbatch_logs\u001b[0m\u001b[0;34m[\u001b[0m\u001b[0;34m'size'\u001b[0m\u001b[0;34m]\u001b[0m \u001b[0;34m=\u001b[0m \u001b[0mlen\u001b[0m\u001b[0;34m(\u001b[0m\u001b[0mbatch_ids\u001b[0m\u001b[0;34m)\u001b[0m\u001b[0;34m\u001b[0m\u001b[0m\n\u001b[1;32m   1151\u001b[0m                 \u001b[0mcallbacks\u001b[0m\u001b[0;34m.\u001b[0m\u001b[0mon_batch_begin\u001b[0m\u001b[0;34m(\u001b[0m\u001b[0mbatch_index\u001b[0m\u001b[0;34m,\u001b[0m \u001b[0mbatch_logs\u001b[0m\u001b[0;34m)\u001b[0m\u001b[0;34m\u001b[0m\u001b[0m\n\u001b[0;32m-> 1152\u001b[0;31m                 \u001b[0mouts\u001b[0m \u001b[0;34m=\u001b[0m \u001b[0mf\u001b[0m\u001b[0;34m(\u001b[0m\u001b[0mins_batch\u001b[0m\u001b[0;34m)\u001b[0m\u001b[0;34m\u001b[0m\u001b[0m\n\u001b[0m\u001b[1;32m   1153\u001b[0m                 \u001b[0;32mif\u001b[0m \u001b[0;32mnot\u001b[0m \u001b[0misinstance\u001b[0m\u001b[0;34m(\u001b[0m\u001b[0mouts\u001b[0m\u001b[0;34m,\u001b[0m \u001b[0mlist\u001b[0m\u001b[0;34m)\u001b[0m\u001b[0;34m:\u001b[0m\u001b[0;34m\u001b[0m\u001b[0m\n\u001b[1;32m   1154\u001b[0m                     \u001b[0mouts\u001b[0m \u001b[0;34m=\u001b[0m \u001b[0;34m[\u001b[0m\u001b[0mouts\u001b[0m\u001b[0;34m]\u001b[0m\u001b[0;34m\u001b[0m\u001b[0m\n",
      "\u001b[0;32m/usr/local/lib/python3.5/dist-packages/keras/backend/tensorflow_backend.py\u001b[0m in \u001b[0;36m__call__\u001b[0;34m(self, inputs)\u001b[0m\n\u001b[1;32m   2227\u001b[0m         \u001b[0msession\u001b[0m \u001b[0;34m=\u001b[0m \u001b[0mget_session\u001b[0m\u001b[0;34m(\u001b[0m\u001b[0;34m)\u001b[0m\u001b[0;34m\u001b[0m\u001b[0m\n\u001b[1;32m   2228\u001b[0m         updated = session.run(self.outputs + [self.updates_op],\n\u001b[0;32m-> 2229\u001b[0;31m                               feed_dict=feed_dict)\n\u001b[0m\u001b[1;32m   2230\u001b[0m         \u001b[0;32mreturn\u001b[0m \u001b[0mupdated\u001b[0m\u001b[0;34m[\u001b[0m\u001b[0;34m:\u001b[0m\u001b[0mlen\u001b[0m\u001b[0;34m(\u001b[0m\u001b[0mself\u001b[0m\u001b[0;34m.\u001b[0m\u001b[0moutputs\u001b[0m\u001b[0;34m)\u001b[0m\u001b[0;34m]\u001b[0m\u001b[0;34m\u001b[0m\u001b[0m\n\u001b[1;32m   2231\u001b[0m \u001b[0;34m\u001b[0m\u001b[0m\n",
      "\u001b[0;32m/usr/local/lib/python3.5/dist-packages/tensorflow/python/client/session.py\u001b[0m in \u001b[0;36mrun\u001b[0;34m(self, fetches, feed_dict, options, run_metadata)\u001b[0m\n\u001b[1;32m    776\u001b[0m     \u001b[0;32mtry\u001b[0m\u001b[0;34m:\u001b[0m\u001b[0;34m\u001b[0m\u001b[0m\n\u001b[1;32m    777\u001b[0m       result = self._run(None, fetches, feed_dict, options_ptr,\n\u001b[0;32m--> 778\u001b[0;31m                          run_metadata_ptr)\n\u001b[0m\u001b[1;32m    779\u001b[0m       \u001b[0;32mif\u001b[0m \u001b[0mrun_metadata\u001b[0m\u001b[0;34m:\u001b[0m\u001b[0;34m\u001b[0m\u001b[0m\n\u001b[1;32m    780\u001b[0m         \u001b[0mproto_data\u001b[0m \u001b[0;34m=\u001b[0m \u001b[0mtf_session\u001b[0m\u001b[0;34m.\u001b[0m\u001b[0mTF_GetBuffer\u001b[0m\u001b[0;34m(\u001b[0m\u001b[0mrun_metadata_ptr\u001b[0m\u001b[0;34m)\u001b[0m\u001b[0;34m\u001b[0m\u001b[0m\n",
      "\u001b[0;32m/usr/local/lib/python3.5/dist-packages/tensorflow/python/client/session.py\u001b[0m in \u001b[0;36m_run\u001b[0;34m(self, handle, fetches, feed_dict, options, run_metadata)\u001b[0m\n\u001b[1;32m    980\u001b[0m     \u001b[0;32mif\u001b[0m \u001b[0mfinal_fetches\u001b[0m \u001b[0;32mor\u001b[0m \u001b[0mfinal_targets\u001b[0m\u001b[0;34m:\u001b[0m\u001b[0;34m\u001b[0m\u001b[0m\n\u001b[1;32m    981\u001b[0m       results = self._do_run(handle, final_targets, final_fetches,\n\u001b[0;32m--> 982\u001b[0;31m                              feed_dict_string, options, run_metadata)\n\u001b[0m\u001b[1;32m    983\u001b[0m     \u001b[0;32melse\u001b[0m\u001b[0;34m:\u001b[0m\u001b[0;34m\u001b[0m\u001b[0m\n\u001b[1;32m    984\u001b[0m       \u001b[0mresults\u001b[0m \u001b[0;34m=\u001b[0m \u001b[0;34m[\u001b[0m\u001b[0;34m]\u001b[0m\u001b[0;34m\u001b[0m\u001b[0m\n",
      "\u001b[0;32m/usr/local/lib/python3.5/dist-packages/tensorflow/python/client/session.py\u001b[0m in \u001b[0;36m_do_run\u001b[0;34m(self, handle, target_list, fetch_list, feed_dict, options, run_metadata)\u001b[0m\n\u001b[1;32m   1030\u001b[0m     \u001b[0;32mif\u001b[0m \u001b[0mhandle\u001b[0m \u001b[0;32mis\u001b[0m \u001b[0;32mNone\u001b[0m\u001b[0;34m:\u001b[0m\u001b[0;34m\u001b[0m\u001b[0m\n\u001b[1;32m   1031\u001b[0m       return self._do_call(_run_fn, self._session, feed_dict, fetch_list,\n\u001b[0;32m-> 1032\u001b[0;31m                            target_list, options, run_metadata)\n\u001b[0m\u001b[1;32m   1033\u001b[0m     \u001b[0;32melse\u001b[0m\u001b[0;34m:\u001b[0m\u001b[0;34m\u001b[0m\u001b[0m\n\u001b[1;32m   1034\u001b[0m       return self._do_call(_prun_fn, self._session, handle, feed_dict,\n",
      "\u001b[0;32m/usr/local/lib/python3.5/dist-packages/tensorflow/python/client/session.py\u001b[0m in \u001b[0;36m_do_call\u001b[0;34m(self, fn, *args)\u001b[0m\n\u001b[1;32m   1037\u001b[0m   \u001b[0;32mdef\u001b[0m \u001b[0m_do_call\u001b[0m\u001b[0;34m(\u001b[0m\u001b[0mself\u001b[0m\u001b[0;34m,\u001b[0m \u001b[0mfn\u001b[0m\u001b[0;34m,\u001b[0m \u001b[0;34m*\u001b[0m\u001b[0margs\u001b[0m\u001b[0;34m)\u001b[0m\u001b[0;34m:\u001b[0m\u001b[0;34m\u001b[0m\u001b[0m\n\u001b[1;32m   1038\u001b[0m     \u001b[0;32mtry\u001b[0m\u001b[0;34m:\u001b[0m\u001b[0;34m\u001b[0m\u001b[0m\n\u001b[0;32m-> 1039\u001b[0;31m       \u001b[0;32mreturn\u001b[0m \u001b[0mfn\u001b[0m\u001b[0;34m(\u001b[0m\u001b[0;34m*\u001b[0m\u001b[0margs\u001b[0m\u001b[0;34m)\u001b[0m\u001b[0;34m\u001b[0m\u001b[0m\n\u001b[0m\u001b[1;32m   1040\u001b[0m     \u001b[0;32mexcept\u001b[0m \u001b[0merrors\u001b[0m\u001b[0;34m.\u001b[0m\u001b[0mOpError\u001b[0m \u001b[0;32mas\u001b[0m \u001b[0me\u001b[0m\u001b[0;34m:\u001b[0m\u001b[0;34m\u001b[0m\u001b[0m\n\u001b[1;32m   1041\u001b[0m       \u001b[0mmessage\u001b[0m \u001b[0;34m=\u001b[0m \u001b[0mcompat\u001b[0m\u001b[0;34m.\u001b[0m\u001b[0mas_text\u001b[0m\u001b[0;34m(\u001b[0m\u001b[0me\u001b[0m\u001b[0;34m.\u001b[0m\u001b[0mmessage\u001b[0m\u001b[0;34m)\u001b[0m\u001b[0;34m\u001b[0m\u001b[0m\n",
      "\u001b[0;32m/usr/local/lib/python3.5/dist-packages/tensorflow/python/client/session.py\u001b[0m in \u001b[0;36m_run_fn\u001b[0;34m(session, feed_dict, fetch_list, target_list, options, run_metadata)\u001b[0m\n\u001b[1;32m   1019\u001b[0m         return tf_session.TF_Run(session, options,\n\u001b[1;32m   1020\u001b[0m                                  \u001b[0mfeed_dict\u001b[0m\u001b[0;34m,\u001b[0m \u001b[0mfetch_list\u001b[0m\u001b[0;34m,\u001b[0m \u001b[0mtarget_list\u001b[0m\u001b[0;34m,\u001b[0m\u001b[0;34m\u001b[0m\u001b[0m\n\u001b[0;32m-> 1021\u001b[0;31m                                  status, run_metadata)\n\u001b[0m\u001b[1;32m   1022\u001b[0m \u001b[0;34m\u001b[0m\u001b[0m\n\u001b[1;32m   1023\u001b[0m     \u001b[0;32mdef\u001b[0m \u001b[0m_prun_fn\u001b[0m\u001b[0;34m(\u001b[0m\u001b[0msession\u001b[0m\u001b[0;34m,\u001b[0m \u001b[0mhandle\u001b[0m\u001b[0;34m,\u001b[0m \u001b[0mfeed_dict\u001b[0m\u001b[0;34m,\u001b[0m \u001b[0mfetch_list\u001b[0m\u001b[0;34m)\u001b[0m\u001b[0;34m:\u001b[0m\u001b[0;34m\u001b[0m\u001b[0m\n",
      "\u001b[0;31mKeyboardInterrupt\u001b[0m: "
     ]
    }
   ],
   "source": [
    "history_dnn = model_dnn.fit(train_input_flatten, train_target,\n",
    "                    epochs=1000, batch_size=1024,\n",
    "                    validation_data=(valid_input_flatten, valid_target),\n",
    "                    verbose=0, callbacks=[earlyStopping_dnn])"
   ]
  },
  {
   "cell_type": "code",
   "execution_count": 22,
   "metadata": {
    "collapsed": false
   },
   "outputs": [
    {
     "data": {
      "image/png": "[encoded data removed]",
      "text/plain": [
       "<matplotlib.figure.Figure at 0x7f36ca1d5780>"
      ]
     },
     "metadata": {},
     "output_type": "display_data"
    }
   ],
   "source": [
    "# summarize history for loss\n",
    "plt.figure(figsize=(13, 5))\n",
    "plt.plot(history_cnn.history['loss'])\n",
    "plt.plot(history_cnn.history['val_loss'])\n",
    "\n",
    "#plt.plot(history_dnn.history['loss'])\n",
    "#plt.plot(history_dnn.history['val_loss'])\n",
    "plt.title('Model loss')\n",
    "plt.ylabel('loss')\n",
    "plt.xlabel('epoch')\n",
    "plt.legend(['cnn_train', 'cnn_validation', 'dnn_train', 'dnn_validation'], loc='upper right')\n",
    "plt.ylim((0.0, 0.02))\n",
    "plt.grid()\n",
    "plt.show()"
   ]
  },
  {
   "cell_type": "code",
   "execution_count": 9,
   "metadata": {
    "collapsed": true
   },
   "outputs": [],
   "source": [
    "model.save('models/mBM7uwordsNo2.h5')"
   ]
  },
  {
   "cell_type": "markdown",
   "metadata": {},
   "source": [
    "# Evaluation"
   ]
  },
  {
   "cell_type": "code",
   "execution_count": 13,
   "metadata": {
    "collapsed": false
   },
   "outputs": [
    {
     "ename": "NameError",
     "evalue": "name 'tests_input_flatten' is not defined",
     "output_type": "error",
     "traceback": [
      "\u001b[0;31m---------------------------------------------------------------------------\u001b[0m",
      "\u001b[0;31mNameError\u001b[0m                                 Traceback (most recent call last)",
      "\u001b[0;32m<ipython-input-13-14208a2905e5>\u001b[0m in \u001b[0;36m<module>\u001b[0;34m()\u001b[0m\n\u001b[1;32m      8\u001b[0m \u001b[0;34m\u001b[0m\u001b[0m\n\u001b[1;32m      9\u001b[0m \u001b[0;32mif\u001b[0m \u001b[0mmodel_type\u001b[0m \u001b[0;34m==\u001b[0m \u001b[0;34m\"dnn\"\u001b[0m\u001b[0;34m:\u001b[0m\u001b[0;34m\u001b[0m\u001b[0m\n\u001b[0;32m---> 10\u001b[0;31m     \u001b[0mtest_results\u001b[0m \u001b[0;34m=\u001b[0m \u001b[0mmodel_dnn\u001b[0m\u001b[0;34m.\u001b[0m\u001b[0mpredict\u001b[0m\u001b[0;34m(\u001b[0m\u001b[0mtests_input_flatten\u001b[0m\u001b[0;34m)\u001b[0m\u001b[0;34m\u001b[0m\u001b[0m\n\u001b[0m\u001b[1;32m     11\u001b[0m     \u001b[0mhistory\u001b[0m \u001b[0;34m=\u001b[0m \u001b[0mhistory_dnn\u001b[0m\u001b[0;34m\u001b[0m\u001b[0m\n\u001b[1;32m     12\u001b[0m \u001b[0;32melse\u001b[0m\u001b[0;34m:\u001b[0m\u001b[0;34m\u001b[0m\u001b[0m\n",
      "\u001b[0;31mNameError\u001b[0m: name 'tests_input_flatten' is not defined"
     ]
    }
   ],
   "source": [
    "model_type = \"dnn\"\n",
    "\n",
    "test_tp = 0\n",
    "test_fp = 0\n",
    "test_tn = 0\n",
    "test_fn = 0\n",
    "test_str = \"\"\n",
    "\n",
    "if model_type == \"dnn\":\n",
    "    test_results = model_dnn.predict(tests_input_flatten)\n",
    "    history = history_dnn\n",
    "else:\n",
    "    if model_type == \"cnn\":\n",
    "        test_results = model_cnn.predict(tests_input_flatten_p1)\n",
    "        history = history_cnn\n",
    "if(np.shape(test_results)[1] == 2):\n",
    "    for i in range(len(test_results)):\n",
    "        # positive\n",
    "        if np.argmax(test_results[i]) == 1:\n",
    "            if np.argmax(tests_target[i]) == 1:\n",
    "                test_tn += 1\n",
    "            else:\n",
    "                test_fn += 1\n",
    "        else:\n",
    "            if np.argmax(tests_target[i]) == 1:\n",
    "                test_fp += 1\n",
    "            else:\n",
    "                test_tp += 1\n",
    "    print(np.shape(test_results),np.shape(tests_target))\n",
    "    print(test_tp,test_fp,test_tn,test_fn)\n",
    "    test_precision = test_tp / (test_tp + test_fp)\n",
    "    test_recall = test_tp / (test_tp + test_fn)\n",
    "    test_Fscore = 2 * (test_precision * \n",
    "                       test_recall) / (test_precision + test_recall)\n",
    "    test_str = str(test_precision) + '\\t' + str(test_recall) \n",
    "    test_str += '\\t' + str(test_Fscore)\n",
    "else:\n",
    "    for i in range(len(test_results)):\n",
    "        if np.argmax(test_results[i]) == np.argmax(tests_target[i]):\n",
    "            test_success += 1\n",
    "        else:\n",
    "            test_fail += 1\n",
    "    test_str = str(test_fail/(test_fail+test_success))\n",
    "\n",
    "with open(\"results_models.txt\", \"a\") as myfile:\n",
    "    result = \"\"\n",
    "#    result += str(window_length) + '\\t'\n",
    "#    result += str(length_after) + '\\t' + tag_chars\n",
    "#    result += '\\t' + str(num_layers) + '\\t'\n",
    "#    result += str(num_hidden) + '\\t'\n",
    "    result += model_type + '\\t'\n",
    "    result += str(history.epoch[-1]) + '\\t'\n",
    "    result += str(history.history['val_loss'][-1])\n",
    "    result += '\\t' + test_str\n",
    "    result += '\\n'\n",
    "    myfile.write(result)"
   ]
  },
  {
   "cell_type": "markdown",
   "metadata": {},
   "source": [
    "## Words"
   ]
  },
  {
   "cell_type": "code",
   "execution_count": 145,
   "metadata": {
    "collapsed": false
   },
   "outputs": [],
   "source": [
    "def hyph_predict(word, model,\n",
    "                 length=2, length_after=0, tag_chars='BMES', aslist=False, model_type='dnn'):\n",
    "    \"\"\"Generate tagging from the input word according to the model\"\"\"\n",
    "    word_in = []\n",
    "    word_out = []\n",
    "    generate_network_data([word, len(word)*tag_chars[0]],\n",
    "                          word_in, word_out, length=length,\n",
    "                          length_after=length_after, tag_chars=tag_chars)\n",
    "    word_in = np.reshape(word_in, (len(word_in), (length)*len(hun_chars)))\n",
    "    if model_type=='cnn':\n",
    "        word_in = np.expand_dims(word_in, axis=1) # reshape (x, 1, 259) \n",
    "    word_out = model.predict(word_in)\n",
    "    tag_list = np.array(list(tag_chars))\n",
    "    temp = np.argmax(word_out, axis=1)\n",
    "    temp = tag_list[temp]\n",
    "    if(aslist):\n",
    "        return temp\n",
    "    return \"\".join(temp)\n",
    "def hyph_insterted(word, model,\n",
    "                   length=2, length_after=0, tag_chars='BMES', model_type='dnn'):\n",
    "    tags = hyph_predict(word, model,length,\n",
    "                        length_after, tag_chars, aslist=False, model_type=model_type)\n",
    "    word_inserted = \"\"\n",
    "    if tag_chars=='BM':\n",
    "        for i in range(len(word)):\n",
    "            if i != 0 and tags[i]=='B':\n",
    "                word_inserted += '-'\n",
    "            word_inserted += word[i]\n",
    "    else:\n",
    "        raise NotImplementedError('BM implemented only')\n",
    "    return word_inserted"
   ]
  },
  {
   "cell_type": "code",
   "execution_count": 146,
   "metadata": {
    "collapsed": true
   },
   "outputs": [],
   "source": [
    "hypher = pyphen.Pyphen(lang='hu_HU')"
   ]
  },
  {
   "cell_type": "code",
   "execution_count": 147,
   "metadata": {
    "collapsed": false
   },
   "outputs": [
    {
     "name": "stdout",
     "output_type": "stream",
     "text": [
      "Word: szemüveg Prediction: BMMMBMMM Target: BMMMBMMM szem-üveg\n",
      "Word: leopárd Prediction: BMBMMMM Target: BMBBMMM le-o-párd\n"
     ]
    }
   ],
   "source": [
    "test = 'szemüveg'\n",
    "print('Word:', test, 'Prediction:',\n",
    "      hyph_predict(test, model, window_length, length_after, tag_chars, model_type='cnn'),\n",
    "      'Target:', hyph_tags_4to2(hyph_tags(test)), hypher.inserted(test))\n",
    "\n",
    "test = 'leopárd'\n",
    "print('Word:', test, 'Prediction:',\n",
    "      hyph_predict(test, model, window_length, length_after, tag_chars, model_type='cnn'),\n",
    "      'Target:', hyph_tags_4to2(hyph_tags(test)), hypher.inserted(test))"
   ]
  },
  {
   "cell_type": "code",
   "execution_count": 149,
   "metadata": {
    "collapsed": false
   },
   "outputs": [
    {
     "name": "stdout",
     "output_type": "stream",
     "text": [
      "Prediction\tTarget\n",
      "cros-so-ver \t cros-sover\n",
      "li-ech-ten-s-tein \t liech-tens-tein\n",
      "Value out of dictionary range: ô\n",
      "hau-s-er \t ha-user\n",
      "szak-ta-ná-cs-adás-sal \t szak-ta-nács-adás-sal\n",
      "fo-gadó-órát \t fo-ga-dó-órát\n",
      "té-nyező-re \t té-nye-ző-re\n",
      "Value out of dictionary range: ô\n",
      "Value out of dictionary range: ä\n",
      "ta-ná-cs-adót \t ta-nács-adót\n",
      "ar-ing \t aring\n",
      "Value out of dictionary range: ô\n",
      "Value out of dictionary range: ô\n",
      "Value out of dictionary range: ă\n",
      "sci-en-ti-a-rum \t sci-en-tia-rum\n"
     ]
    }
   ],
   "source": [
    "test_words = counter_hu_data.most_common()[-400:]\n",
    "print('Prediction\\tTarget')\n",
    "for word in test_words:\n",
    "    next_word = word[0]\n",
    "    if(len(next_word) != 0 and same_char_num(next_word)):\n",
    "        try:\n",
    "            predicted_value = hyph_predict(next_word, model,\n",
    "                                           window_length, length_after,\n",
    "                                           tag_chars, model_type='cnn')\n",
    "            predicted_visual = hyph_insterted(next_word, model,\n",
    "                                              window_length, length_after,\n",
    "                                              tag_chars, model_type='cnn')\n",
    "            excepted_value = hyph_tags_4to2(hyph_tags(next_word))\n",
    "            success = predicted_value == excepted_value\n",
    "            if not success:\n",
    "                print(predicted_visual,\n",
    "                        '\\t',hypher.inserted(next_word))\n",
    "        except ValueError as e:\n",
    "            print(str(e))"
   ]
  },
  {
   "cell_type": "markdown",
   "metadata": {
    "collapsed": false
   },
   "source": [
    "# Sandbox"
   ]
  },
  {
   "cell_type": "code",
   "execution_count": 34,
   "metadata": {
    "collapsed": true
   },
   "outputs": [],
   "source": [
    "hypher = pyphen.Pyphen(lang='hu_HU')"
   ]
  },
  {
   "cell_type": "code",
   "execution_count": null,
   "metadata": {
    "collapsed": false
   },
   "outputs": [],
   "source": [
    "np.array(counter_hu_data.most_common(100))[:,0]"
   ]
  },
  {
   "cell_type": "code",
   "execution_count": null,
   "metadata": {
    "collapsed": false
   },
   "outputs": [],
   "source": [
    "for i in hypher.iterate('almáspite'):\n",
    "    print(i)"
   ]
  },
  {
   "cell_type": "code",
   "execution_count": null,
   "metadata": {
    "collapsed": false
   },
   "outputs": [],
   "source": [
    "def part_hyph(word):\n",
    "    pos = hypher.positions(word)\n",
    "    if len(pos)<1:\n",
    "        return\n",
    "    if len(pos)+2==len(re.findall('[aáeéiíoóöőuúüű]',word)):\n",
    "        return\n",
    "    hyphs = []\n",
    "    hyphs.append(word[:pos[0]])\n",
    "    for i in range(len(pos)-1):\n",
    "        hyphs.append(word[pos[i]:pos[i+1]])\n",
    "    hyphs.append(word[pos[-1]:])\n",
    "    for part in hyphs:\n",
    "        mgh = len(re.findall('[aáeéiíoóöőuúüű]',part))\n",
    "        if(mgh>1):\n",
    "            part_hyph = hypher.inserted(part)\n",
    "            if len(part)<len(part_hyph):\n",
    "                print(hypher.inserted(word), part_hyph)"
   ]
  },
  {
   "cell_type": "code",
   "execution_count": null,
   "metadata": {
    "collapsed": false
   },
   "outputs": [],
   "source": [
    "for word in np.array(counter_hu_data.most_common(100000))[:,0]:\n",
    "    part_hyph(word)"
   ]
  },
  {
   "cell_type": "code",
   "execution_count": null,
   "metadata": {
    "collapsed": false
   },
   "outputs": [],
   "source": [
    "len(re.findall('[aáeéiíoóöőuúüű]','üveg'))"
   ]
  },
  {
   "cell_type": "code",
   "execution_count": null,
   "metadata": {
    "collapsed": false
   },
   "outputs": [],
   "source": []
  },
  {
   "cell_type": "code",
   "execution_count": null,
   "metadata": {
    "collapsed": false
   },
   "outputs": [],
   "source": []
  },
  {
   "cell_type": "code",
   "execution_count": null,
   "metadata": {
    "collapsed": false
   },
   "outputs": [],
   "source": [
    "bigram_counter_en = bigram_counter_from_file('../wikipedia/angol/ossz_angol')\n",
    "bigram_counter_hu = bigram_counter_from_file('../wikipedia/magyar/ossz_magyar')\n",
    "print(len(bigram_counter_en.most_common()))\n",
    "print(len(bigram_counter_hu.most_common()))"
   ]
  },
  {
   "cell_type": "code",
   "execution_count": null,
   "metadata": {
    "collapsed": false
   },
   "outputs": [],
   "source": [
    "test_word = 'kabátgomb'\n",
    "print(bigrams_in_word(test_word, bigram_counter_en))\n",
    "print(bigrams_in_word(test_word, bigram_counter_hu))"
   ]
  },
  {
   "cell_type": "code",
   "execution_count": null,
   "metadata": {
    "collapsed": false
   },
   "outputs": [],
   "source": [
    "words = np.array(counter_hu_data.most_common(100000))[:,0]"
   ]
  },
  {
   "cell_type": "code",
   "execution_count": null,
   "metadata": {
    "collapsed": false
   },
   "outputs": [],
   "source": [
    "hu_w = 0\n",
    "en_w = 0\n",
    "idk_w = 0\n",
    "for w in words:\n",
    "    hu_like = bigrams_in_word(w, bigram_counter_hu)\n",
    "    en_like = bigrams_in_word(w, bigram_counter_en)\n",
    "    i = bigram_selector(w, [bigram_counter_hu, bigram_counter_en], 0.60)\n",
    "    if (i == 0):\n",
    "        hu_w += 1\n",
    "    else:\n",
    "        if (i == 1):\n",
    "            en_w += 1\n",
    "        else:\n",
    "            idk_w += 1\n",
    "print(hu_w,en_w,idk_w)"
   ]
  },
  {
   "cell_type": "code",
   "execution_count": 36,
   "metadata": {
    "collapsed": false
   },
   "outputs": [
    {
     "name": "stdout",
     "output_type": "stream",
     "text": [
      "['MMBMBMMMMMMMMMMMMMMMMMMMMMMMMM']\n"
     ]
    }
   ],
   "source": [
    "N = 1\n",
    "tests_result = model_cnn.predict(tests_input_cnn[0:N])\n",
    "test_ev = []\n",
    "for test in tests_result:\n",
    "    test_hardmax = np.argmax(test, axis=1)\n",
    "    word_tag = ''\n",
    "    for i in test_hardmax:\n",
    "        tag_list = np.array(list(tag_chars))\n",
    "        char_tag = tag_list[i]\n",
    "        word_tag += char_tag\n",
    "    test_ev.append(word_tag)\n",
    "print(test_ev)\n",
    "#print(tests_target_cnn[0:N])"
   ]
  },
  {
   "cell_type": "code",
   "execution_count": null,
   "metadata": {
    "collapsed": false
   },
   "outputs": [],
   "source": [
    "a = [0,1]\n",
    "len(a)"
   ]
  },
  {
   "cell_type": "code",
   "execution_count": null,
   "metadata": {
    "collapsed": true
   },
   "outputs": [],
   "source": []
  }
 ],
 "metadata": {
  "kernelspec": {
   "display_name": "Python 3",
   "language": "python",
   "name": "python3"
  },
  "language_info": {
   "codemirror_mode": {
    "name": "ipython",
    "version": 3
   },
   "file_extension": ".py",
   "mimetype": "text/x-python",
   "name": "python",
   "nbconvert_exporter": "python",
   "pygments_lexer": "ipython3",
   "version": "3.5.2"
  }
 },
 "nbformat": 4,
 "nbformat_minor": 1
}
