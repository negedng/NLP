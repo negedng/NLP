{
 "cells": [
  {
   "cell_type": "code",
   "execution_count": 1,
   "metadata": {
    "collapsed": true
   },
   "outputs": [],
   "source": [
    "import pyphen"
   ]
  },
  {
   "cell_type": "code",
   "execution_count": 7,
   "metadata": {
    "collapsed": false
   },
   "outputs": [
    {
     "data": {
      "text/plain": [
       "'hu_HU'"
      ]
     },
     "execution_count": 7,
     "metadata": {},
     "output_type": "execute_result"
    }
   ],
   "source": [
    "pyphen.language_fallback(\"hu_HU\")"
   ]
  },
  {
   "cell_type": "code",
   "execution_count": 9,
   "metadata": {
    "collapsed": false
   },
   "outputs": [
    {
     "data": {
      "text/plain": [
       "True"
      ]
     },
     "execution_count": 9,
     "metadata": {},
     "output_type": "execute_result"
    }
   ],
   "source": [
    "'hu_HU' in pyphen.LANGUAGES"
   ]
  },
  {
   "cell_type": "code",
   "execution_count": 10,
   "metadata": {
    "collapsed": true
   },
   "outputs": [],
   "source": [
    "hypher = pyphen.Pyphen(lang='hu_HU')"
   ]
  },
  {
   "cell_type": "code",
   "execution_count": 11,
   "metadata": {
    "collapsed": false
   },
   "outputs": [
    {
     "data": {
      "text/plain": [
       "'al-más-pi-te'"
      ]
     },
     "execution_count": 11,
     "metadata": {},
     "output_type": "execute_result"
    }
   ],
   "source": [
    "hypher.inserted('almáspite')"
   ]
  },
  {
   "cell_type": "code",
   "execution_count": 12,
   "metadata": {
    "collapsed": false
   },
   "outputs": [
    {
     "data": {
      "text/plain": [
       "'asz-szony-nyal'"
      ]
     },
     "execution_count": 12,
     "metadata": {},
     "output_type": "execute_result"
    }
   ],
   "source": [
    "hypher.inserted('asszonnyal')"
   ]
  },
  {
   "cell_type": "code",
   "execution_count": 15,
   "metadata": {
    "collapsed": false
   },
   "outputs": [
    {
     "data": {
      "text/plain": [
       "('megszentségteleníthetetlensé-', 'geskedéseitekért')"
      ]
     },
     "execution_count": 15,
     "metadata": {},
     "output_type": "execute_result"
    }
   ],
   "source": [
    "hypher.wrap(\"megszentségteleníthetetlenségeskedéseitekért\", 30)"
   ]
  },
  {
   "cell_type": "code",
   "execution_count": 16,
   "metadata": {
    "collapsed": false
   },
   "outputs": [
    {
     "name": "stdout",
     "output_type": "stream",
     "text": [
      "('megszentségteleníthetetlenségeskedéseite', 'kért')\n",
      "('megszentségteleníthetetlenségeskedései', 'tekért')\n",
      "('megszentségteleníthetetlenségeskedése', 'itekért')\n",
      "('megszentségteleníthetetlenségeskedé', 'seitekért')\n",
      "('megszentségteleníthetetlenségeske', 'déseitekért')\n",
      "('megszentségteleníthetetlenséges', 'kedéseitekért')\n",
      "('megszentségteleníthetetlensé', 'geskedéseitekért')\n",
      "('megszentségteleníthetetlen', 'ségeskedéseitekért')\n",
      "('megszentségteleníthetet', 'lenségeskedéseitekért')\n",
      "('megszentségteleníthe', 'tetlenségeskedéseitekért')\n",
      "('megszentségtelenít', 'hetetlenségeskedéseitekért')\n",
      "('megszentségtele', 'níthetetlenségeskedéseitekért')\n",
      "('megszentségte', 'leníthetetlenségeskedéseitekért')\n",
      "('megszentség', 'teleníthetetlenségeskedéseitekért')\n",
      "('megszent', 'ségteleníthetetlenségeskedéseitekért')\n",
      "('meg', 'szentségteleníthetetlenségeskedéseitekért')\n"
     ]
    }
   ],
   "source": [
    "for pair in hypher.iterate(\"megszentségteleníthetetlenségeskedéseitekért\"):\n",
    "    print(pair)"
   ]
  },
  {
   "cell_type": "code",
   "execution_count": 17,
   "metadata": {
    "collapsed": false
   },
   "outputs": [
    {
     "data": {
      "text/plain": [
       "'meg-szent-ség-te-le-nít-he-tet-len-sé-ges-ke-dé-se-i-te-kért'"
      ]
     },
     "execution_count": 17,
     "metadata": {},
     "output_type": "execute_result"
    }
   ],
   "source": [
    "hypher.inserted(\"megszentségteleníthetetlenségeskedéseitekért\")"
   ]
  },
  {
   "cell_type": "code",
   "execution_count": null,
   "metadata": {
    "collapsed": true
   },
   "outputs": [],
   "source": []
  }
 ],
 "metadata": {
  "kernelspec": {
   "display_name": "Python 3",
   "language": "python",
   "name": "python3"
  },
  "language_info": {
   "codemirror_mode": {
    "name": "ipython",
    "version": 3
   },
   "file_extension": ".py",
   "mimetype": "text/x-python",
   "name": "python",
   "nbconvert_exporter": "python",
   "pygments_lexer": "ipython3",
   "version": "3.5.2"
  }
 },
 "nbformat": 4,
 "nbformat_minor": 1
}
