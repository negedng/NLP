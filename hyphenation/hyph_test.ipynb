{
 "cells": [
  {
   "cell_type": "code",
   "execution_count": 69,
   "metadata": {
    "collapsed": false
   },
   "outputs": [],
   "source": [
    "import pyphen\n",
    "import string\n",
    "import re\n",
    "import collections\n",
    "\n",
    "import numpy as np\n",
    "\n",
    "from keras.models import Sequential\n",
    "from keras.layers import Dense, Flatten\n",
    "import keras\n",
    "\n",
    "import matplotlib.pyplot as plt\n",
    "%matplotlib inline"
   ]
  },
  {
   "cell_type": "code",
   "execution_count": 2,
   "metadata": {
    "collapsed": true
   },
   "outputs": [],
   "source": [
    "hypher = pyphen.Pyphen(lang='hu_HU')"
   ]
  },
  {
   "cell_type": "code",
   "execution_count": 3,
   "metadata": {
    "collapsed": false
   },
   "outputs": [],
   "source": [
    "def hyph_class(word, hypher=pyphen.Pyphen(lang='hu_HU'), aslist=False):\n",
    "    \"\"\"Hyphenating classification of the characters in the word. {B(egin),M(iddle),E(nd),S(ingle)}\"\"\"\n",
    "    if(len(word)==0):\n",
    "        raise IndexError(\"0 length word\")\n",
    "    ret = list('M' * len(word))\n",
    "    ret[0]='B'\n",
    "    ret[-1]='E'\n",
    "    for i in hypher.positions(word):\n",
    "        ret[i]='B'\n",
    "        if(ret[i-1]=='B'):\n",
    "            ret[i-1]='S'\n",
    "        else:\n",
    "            ret[i-1]='E'\n",
    "    if(aslist):\n",
    "        return ret\n",
    "    return \"\".join(ret)\n",
    "def same_char_num(word, hypher=pyphen.Pyphen(lang='hu_HU')):\n",
    "    \"\"\"Return true if the hyphenated word has as many chars as the original\"\"\"\n",
    "    return len(hypher.inserted(word))==len(word)+len(hypher.positions(word))\n",
    "def cleaning(data):\n",
    "    \"\"\"Text cleaning:\n",
    "        lower the letters\n",
    "        punctuation, digits ellimination\"\"\"\n",
    "    formated_data = data.lower()\n",
    "    formated_data = re.sub('['+string.punctuation+']','',formated_data)\n",
    "    formated_data = re.sub('['+string.digits+']','',formated_data)\n",
    "    return formated_data"
   ]
  },
  {
   "cell_type": "code",
   "execution_count": 4,
   "metadata": {
    "collapsed": false
   },
   "outputs": [],
   "source": [
    "counter_hu_data = collections.Counter()\n",
    "word_list = []\n",
    "c_all = 0\n",
    "c_same_char_num = 0\n",
    "with open('web2.2-freq-sorted.txt','r',errors='ignore',encoding='latin2') as f:\n",
    "    i = 0\n",
    "    for line in f:\n",
    "        i = i+1\n",
    "        words = line.split()\n",
    "        if len(words)>1:\n",
    "            if(words[1].isdigit()):\n",
    "                counter_hu_data[cleaning(words[0])]+=int(words[1])\n",
    "        if i>100000:\n",
    "            break\n",
    "for words in counter_hu_data.most_common():\n",
    "    c_all+=1\n",
    "    next_word = words[0]\n",
    "    if(len(next_word)!=0 and same_char_num(next_word)):\n",
    "        c_same_char_num+=1\n",
    "        word_list.append([next_word,hyph_class(next_word)])"
   ]
  },
  {
   "cell_type": "code",
   "execution_count": 5,
   "metadata": {
    "collapsed": false
   },
   "outputs": [
    {
     "name": "stdout",
     "output_type": "stream",
     "text": [
      "82181 83286 0.9867324640395745\n"
     ]
    }
   ],
   "source": [
    "print(c_same_char_num,c_all,c_same_char_num/c_all)"
   ]
  },
  {
   "cell_type": "code",
   "execution_count": 6,
   "metadata": {
    "collapsed": false
   },
   "outputs": [
    {
     "name": "stdout",
     "output_type": "stream",
     "text": [
      "[['ember', 'BEBME'], ['ezek', 'BMME'], ['tovább', 'BEBMME'], ['vagyok', 'BEBMME'], ['ma', 'BE'], ['miatt', 'BEBME'], ['this', 'BMME'], ['mellett', 'BMEBMME'], ['vannak', 'BMEBME'], ['by', 'BE'], ['alapján', 'BMMEBME'], ['lenne', 'BMEBE'], ['with', 'BMME'], ['that', 'BMME'], ['tehát', 'BEBME'], ['te', 'BE'], ['it', 'BE'], ['ben', 'BME'], ['egész', 'BMMME'], ['néhány', 'BEBMME'], ['milyen', 'BEBMME'], ['át', 'BE'], ['nekem', 'BEBME'], ['előtt', 'BMMME'], ['ezzel', 'BEBME'], ['mivel', 'BEBME'], ['ezen', 'BMME'], ['nélkül', 'BMEBME'], ['lett', 'BMME'], ['stb', 'BME'], ['you', 'BME'], ['viszont', 'BEBMMME'], ['év', 'BE'], ['teljes', 'BMEBME'], ['erre', 'BEBE'], ['hiszen', 'BEBMME'], ['másik', 'BEBME'], ['ebben', 'BEBME'], ['mind', 'BMME'], ['der', 'BME'], ['három', 'BEBME'], ['talán', 'BEBME'], ['valami', 'BEBEBE'], ['die', 'BME'], ['bár', 'BME'], ['are', 'BME'], ['legyen', 'BEBMME'], ['tudom', 'BEBME'], ['from', 'BMME'], ['inkább', 'BEBMME'], ['során', 'BEBME'], ['például', 'BMEBEBE'], ['rá', 'BE'], ['m', 'E'], ['persze', 'BMEBME'], ['pl', 'BE'], ['mely', 'BMME'], ['azok', 'BMME'], ['áll', 'BME'], ['szerintem', 'BMEBMEBME'], ['miért', 'BEBME'], ['jelenleg', 'BEBMEBME'], ['aztán', 'BEBME'], ['c', 'E'], ['na', 'BE'], ['ft', 'BE'], ['európai', 'BEBEBME'], ['nagyobb', 'BEBMMME'], ['adott', 'BMMME'], ['akár', 'BMME'], ['elég', 'BMME'], ['se', 'BE'], ['éves', 'BMME'], ['fontos', 'BMEBME'], ['amelyek', 'BMEBMME'], ['együtt', 'BMMMME'], ['éppen', 'BEBME'], ['szükséges', 'BMMEBEBME'], ['hát', 'BME'], ['megfelelő', 'BMEBEBEBE'], ['őket', 'BMME'], ['neki', 'BEBE'], ['szó', 'BME'], ['program', 'BMMEBME'], ['nap', 'BME'], ['jobb', 'BMME'], ['további', 'BEBMEBE'], ['ahogy', 'BMMME'], ['teljesen', 'BMEBEBME'], ['hozzá', 'BMEBE'], ['következő', 'BEBMEBEBE'], ['maga', 'BEBE'], ['or', 'BE'], ['rt', 'BE'], ['egyes', 'BMMME'], ['benne', 'BMEBE'], ['esetén', 'BMEBME'], ['különböző', 'BEBMEBEBE'], ['belül', 'BEBME'], ['all', 'BME']]\n"
     ]
    }
   ],
   "source": [
    "print(word_list[100:200])"
   ]
  },
  {
   "cell_type": "code",
   "execution_count": 7,
   "metadata": {
    "collapsed": false
   },
   "outputs": [],
   "source": [
    "#onehot: {'B','M','E','S'}\n",
    "def one_hot_encode(char,dictionary='BMES'):\n",
    "    ret = [0]*len(dictionary)\n",
    "    if char in dictionary:\n",
    "        ret[dictionary.find(char)]=1\n",
    "        return ret\n",
    "    raise ValueError('Value out of dictionary range'+char)"
   ]
  },
  {
   "cell_type": "code",
   "execution_count": 92,
   "metadata": {
    "collapsed": false
   },
   "outputs": [],
   "source": [
    "hun_chars='aábcdeéfghiíjklmnoóöőpqrstuúüűvwxyz'+'.'\n",
    "def generate_network_data(data, ret_input = [],ret_output=[],length = 2, start_char='.', chars=hun_chars):\n",
    "    \"\"\"from [word,hyph_class(word) to length-long input-output data\"\"\"\n",
    "    word = data[0]\n",
    "    word_plus = start_char*(length-1)+word\n",
    "    hyph_word = data[1]\n",
    "    for i in range(0,len(word)):\n",
    "        input_next_iter = []\n",
    "        for c in word_plus[i:i+length]:\n",
    "            input_next_iter.append(one_hot_encode(c,chars))\n",
    "        output_next_iter = one_hot_encode(hyph_word[i])\n",
    "        ret_input.append(input_next_iter)\n",
    "        ret_output.append(output_next_iter)"
   ]
  },
  {
   "cell_type": "code",
   "execution_count": 30,
   "metadata": {
    "collapsed": false
   },
   "outputs": [
    {
     "name": "stdout",
     "output_type": "stream",
     "text": [
      "[[0, 0, 0, 0, 0, 0, 0, 0, 0, 0, 0, 0, 0, 0, 0, 0, 0, 0, 0, 0, 0, 0, 0, 0, 0, 0, 0, 0, 0, 0, 0, 0, 0, 0, 0, 1], [1, 0, 0, 0, 0, 0, 0, 0, 0, 0, 0, 0, 0, 0, 0, 0, 0, 0, 0, 0, 0, 0, 0, 0, 0, 0, 0, 0, 0, 0, 0, 0, 0, 0, 0, 0]] [1, 0, 0, 0]\n"
     ]
    }
   ],
   "source": [
    "wc_in=[]\n",
    "wc_out=[]\n",
    "\n",
    "generate_network_data(['alma','BEBE'],wc_in, wc_out)\n",
    "print(wc_in[0],wc_out[0])"
   ]
  },
  {
   "cell_type": "code",
   "execution_count": 89,
   "metadata": {
    "collapsed": true
   },
   "outputs": [],
   "source": [
    "window_length = 3"
   ]
  },
  {
   "cell_type": "code",
   "execution_count": 90,
   "metadata": {
    "collapsed": false
   },
   "outputs": [
    {
     "name": "stdout",
     "output_type": "stream",
     "text": [
      "Data len:  695849\n",
      "Wrong words:  640\n"
     ]
    }
   ],
   "source": [
    "data_in = []\n",
    "data_out = []\n",
    "wrong_word = 0\n",
    "for word in word_list:\n",
    "    try:\n",
    "        generate_network_data(word,data_in,data_out,window_length)\n",
    "    except ValueError:\n",
    "        wrong_word+=1\n",
    "print('Data len: ',len(data_in))\n",
    "print('Wrong words: ',wrong_word)"
   ]
  },
  {
   "cell_type": "code",
   "execution_count": 91,
   "metadata": {
    "collapsed": false
   },
   "outputs": [
    {
     "name": "stdout",
     "output_type": "stream",
     "text": [
      "Training data size: 487064\n",
      "Validation data size: 139046\n",
      "Test data size: 69739\n"
     ]
    }
   ],
   "source": [
    "valid_rate=0.2\n",
    "test_rate=0.1\n",
    "\n",
    "train_input = []\n",
    "train_target = []\n",
    "valid_input = []\n",
    "valid_target = []\n",
    "tests_input = []\n",
    "tests_target = []\n",
    "for i in range(len(data_in)):\n",
    "    ran = np.random.random()\n",
    "    if ran-valid_rate<0:\n",
    "        valid_input.append(data_in[i])\n",
    "        valid_target.append(data_out[i])\n",
    "    elif ran-valid_rate-test_rate<0:\n",
    "        tests_input.append(data_in[i])\n",
    "        tests_target.append(data_out[i])\n",
    "    else:\n",
    "        train_input.append(data_in[i])\n",
    "        train_target.append(data_out[i])\n",
    "train_input = np.array(train_input,dtype='float32')\n",
    "train_target= np.array(train_target,dtype='float32')\n",
    "valid_input = np.array(valid_input,dtype='float32')\n",
    "valid_target= np.array(valid_target,dtype='float32')\n",
    "tests_input = np.array(tests_input,dtype='float32')\n",
    "tests_target= np.array(tests_target,dtype='float32')\n",
    "print('Training data size:',len(train_input))\n",
    "print('Validation data size:',len(valid_input))\n",
    "print('Test data size:',len(tests_input))"
   ]
  },
  {
   "cell_type": "code",
   "execution_count": 122,
   "metadata": {
    "collapsed": false
   },
   "outputs": [],
   "source": [
    "model = Sequential()\n",
    "model.add(Dense(input_shape=(window_length,len(hun_chars)), units=10, name='input_layer',activation='relu'))\n",
    "model.add(Dense(units=10, activation='relu'))\n",
    "model.add(Flatten())\n",
    "model.add(Dense(4,name='output_layer', activation='softmax'))"
   ]
  },
  {
   "cell_type": "code",
   "execution_count": 123,
   "metadata": {
    "collapsed": true
   },
   "outputs": [],
   "source": [
    "model.compile(loss='categorical_crossentropy',optimizer='sgd')"
   ]
  },
  {
   "cell_type": "code",
   "execution_count": 124,
   "metadata": {
    "collapsed": false
   },
   "outputs": [
    {
     "name": "stdout",
     "output_type": "stream",
     "text": [
      "Train on 487064 samples, validate on 139046 samples\n",
      "Epoch 1/50\n",
      "Epoch 2/50\n",
      "Epoch 3/50\n",
      "Epoch 4/50\n",
      "Epoch 5/50\n",
      "Epoch 6/50\n",
      "Epoch 7/50\n",
      "Epoch 8/50\n",
      "Epoch 9/50\n",
      "Epoch 10/50\n",
      "Epoch 11/50\n",
      "Epoch 12/50\n",
      "Epoch 13/50\n",
      "Epoch 14/50\n",
      "Epoch 15/50\n",
      "Epoch 16/50\n",
      "Epoch 17/50\n",
      "Epoch 18/50\n",
      "Epoch 19/50\n",
      "Epoch 20/50\n",
      "Epoch 21/50\n",
      "Epoch 22/50\n",
      "Epoch 23/50\n",
      "Epoch 24/50\n",
      "Epoch 25/50\n",
      "Epoch 26/50\n",
      "Epoch 27/50\n",
      "Epoch 28/50\n",
      "Epoch 29/50\n",
      "Epoch 30/50\n",
      "Epoch 31/50\n",
      "Epoch 32/50\n",
      "Epoch 33/50\n",
      "Epoch 34/50\n",
      "Epoch 35/50\n",
      "Epoch 36/50\n",
      "Epoch 37/50\n",
      "Epoch 38/50\n",
      "Epoch 39/50\n",
      "Epoch 40/50\n",
      "Epoch 41/50\n",
      "Epoch 42/50\n",
      "Epoch 43/50\n",
      "Epoch 44/50\n",
      "Epoch 45/50\n",
      "Epoch 46/50\n",
      "Epoch 47/50\n",
      "Epoch 48/50\n",
      "Epoch 49/50\n",
      "Epoch 50/50\n"
     ]
    }
   ],
   "source": [
    "history = model.fit(train_input,train_target, epochs=50, batch_size=1024, \n",
    "                    validation_data=(valid_input,valid_target), verbose=0.1,\n",
    "                   shuffle= True)"
   ]
  },
  {
   "cell_type": "code",
   "execution_count": 126,
   "metadata": {
    "collapsed": false
   },
   "outputs": [
    {
     "data": {
      "image/png": "[encoded data removed]",
      "text/plain": [
       "<matplotlib.figure.Figure at 0x7f0128cd2cc0>"
      ]
     },
     "metadata": {},
     "output_type": "display_data"
    }
   ],
   "source": [
    "# summarize history for loss\n",
    "plt.figure(figsize=(13, 5))\n",
    "plt.plot(history.history['loss'])\n",
    "plt.plot(history.history['val_loss'])\n",
    "plt.title('Model loss')\n",
    "plt.ylabel('loss')\n",
    "plt.xlabel('epoch')\n",
    "plt.legend(['train', 'validation'], loc='upper right')\n",
    "plt.grid()\n",
    "plt.show()"
   ]
  },
  {
   "cell_type": "code",
   "execution_count": null,
   "metadata": {
    "collapsed": true
   },
   "outputs": [],
   "source": []
  }
 ],
 "metadata": {
  "kernelspec": {
   "display_name": "Python 3",
   "language": "python",
   "name": "python3"
  },
  "language_info": {
   "codemirror_mode": {
    "name": "ipython",
    "version": 3
   },
   "file_extension": ".py",
   "mimetype": "text/x-python",
   "name": "python",
   "nbconvert_exporter": "python",
   "pygments_lexer": "ipython3",
   "version": "3.5.2"
  }
 },
 "nbformat": 4,
 "nbformat_minor": 1
}
