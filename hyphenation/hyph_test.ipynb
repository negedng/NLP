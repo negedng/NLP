{
 "cells": [
  {
   "cell_type": "code",
   "execution_count": 1,
   "metadata": {
    "collapsed": false
   },
   "outputs": [
    {
     "name": "stderr",
     "output_type": "stream",
     "text": [
      "Using Theano backend.\n"
     ]
    }
   ],
   "source": [
    "import pyphen\n",
    "import string\n",
    "import re\n",
    "import collections\n",
    "\n",
    "import numpy as np\n",
    "\n",
    "from keras.models import Sequential\n",
    "from keras.layers import Dense, Flatten\n",
    "import keras\n",
    "\n",
    "import matplotlib.pyplot as plt\n",
    "%matplotlib inline"
   ]
  },
  {
   "cell_type": "code",
   "execution_count": 6,
   "metadata": {
    "collapsed": false
   },
   "outputs": [
    {
     "name": "stdout",
     "output_type": "stream",
     "text": [
      "The pep8_magic extension is already loaded. To reload it, use:\n",
      "  %reload_ext pep8_magic\n"
     ]
    }
   ],
   "source": [
    "%load_ext pep8_magic"
   ]
  },
  {
   "cell_type": "code",
   "execution_count": 2,
   "metadata": {
    "collapsed": false
   },
   "outputs": [],
   "source": [
    "hun_chars = 'aábcdeéfghiíjklmnoóöőpqrstuúüűvwxyz' + '^$'  # ^,$\n",
    "\n",
    "\n",
    "def hyph_tags(word, hypher=pyphen.Pyphen(lang='hu_HU'), aslist=False):\n",
    "    \"\"\"Hyphenating classification of the characters in the word.\n",
    "    {B(egin),M(iddle),E(nd),S(ingle)}\"\"\"\n",
    "    if (len(word) == 0):\n",
    "        raise IndexError(\"0 length word\")\n",
    "    ret = list('M' * len(word))\n",
    "    ret[0] = 'B'\n",
    "    ret[-1] = 'E'\n",
    "    for i in hypher.positions(word):\n",
    "        ret[i] = 'B'\n",
    "        if(ret[i-1] == 'B'):\n",
    "            ret[i-1] = 'S'\n",
    "        else:\n",
    "            ret[i-1] = 'E'\n",
    "    if (aslist):\n",
    "        return ret\n",
    "    return \"\".join(ret)\n",
    "\n",
    "\n",
    "def hyph_tags_4to2(word, aslist=False):\n",
    "    \"\"\"{B,M,E,S} to {B, M}\"\"\"\n",
    "    ret = list(word)\n",
    "    for i in range(len(ret)):\n",
    "        if ret[i] == 'S':\n",
    "            ret[i] = 'B'\n",
    "        if ret[i] != 'B':\n",
    "            ret[i] = 'M'\n",
    "    if(aslist):\n",
    "        return ret\n",
    "    return \"\".join(ret)\n",
    "\n",
    "\n",
    "def same_char_num(word, hypher=pyphen.Pyphen(lang='hu_HU')):\n",
    "    \"\"\"Return true if the hyphenated word has as many chars as the original\"\"\"\n",
    "    return len(hypher.inserted(word)) == len(word)+len(hypher.positions(word))\n",
    "\n",
    "\n",
    "def cleaning(data):\n",
    "    \"\"\"Text cleaning:\n",
    "        lower the letters\n",
    "        punctuation, digits ellimination\"\"\"\n",
    "    formated_data = data.lower()\n",
    "    formated_data = re.sub('['+string.punctuation+']', '', formated_data)\n",
    "    formated_data = re.sub('['+string.digits+']', '', formated_data)\n",
    "    return formated_data\n",
    "\n",
    "\n",
    "# onehot: {'B','M','E','S'}\n",
    "def one_hot_encode(char, dictionary='BMES'):\n",
    "    ret = [0]*len(dictionary)\n",
    "    if char in dictionary:\n",
    "        ret[dictionary.find(char)] = 1\n",
    "        return ret\n",
    "    raise ValueError('Value out of dictionary range: '+char)\n",
    "\n",
    "\n",
    "def unison_shuffled_copies(a, b):\n",
    "    \"\"\"Randomize 2 same length array in the same permutation\"\"\"\n",
    "    assert len(a) == len(b)\n",
    "    p = np.random.permutation(len(a))\n",
    "    return a[p], b[p]\n",
    "\n",
    "\n",
    "def one_hot_decode(arr, dictionary='BMES'):\n",
    "    assert len(arr) == len(dictionary)\n",
    "    i = np.nonzero(arr)[0][0]\n",
    "    return dictionary[i]\n",
    "\n",
    "\n",
    "def generate_network_data(data, ret_input=[], ret_output=[],\n",
    "                          length=2, length_after=0,\n",
    "                          start_char='^', end_char='$',\n",
    "                          chars=hun_chars, tag_chars='BMES'):\n",
    "    \"\"\"from [word,hyph_class(word) to length-long input-output data\"\"\"\n",
    "    word = data[0]\n",
    "    word_plus = start_char*(length-length_after-1)+word+end_char*length_after\n",
    "    hyph_word = data[1]\n",
    "    for i in range(0, len(word)):\n",
    "        input_next_iter = []\n",
    "        for c in word_plus[i:i+length]:\n",
    "            input_next_iter.append(one_hot_encode(c, chars))\n",
    "        output_next_iter = one_hot_encode(hyph_word[i], tag_chars)\n",
    "        ret_input.append(input_next_iter)\n",
    "        ret_output.append(output_next_iter)"
   ]
  },
  {
   "cell_type": "markdown",
   "metadata": {},
   "source": [
    "# Data import"
   ]
  },
  {
   "cell_type": "code",
   "execution_count": 3,
   "metadata": {
    "collapsed": false
   },
   "outputs": [],
   "source": [
    "def data_reader(file, tail_cut=100000):\n",
    "    \"\"\"Read data from file\"\"\"\n",
    "\n",
    "    tail_cut_ptest_words = tail_cut + 500\n",
    "\n",
    "    counter_hu_data = collections.Counter()\n",
    "    with open('web2.2-freq-sorted.txt', 'r',\n",
    "              errors='ignore', encoding='latin2') as f:\n",
    "        i = 0\n",
    "        for line in f:\n",
    "            i = i+1\n",
    "            words = line.split()\n",
    "            if len(words) > 1:\n",
    "                if(words[1].isdigit()):\n",
    "                    counter_hu_data[cleaning(words[0])] += int(words[1])\n",
    "            if i > tail_cut_ptest_words:\n",
    "                break\n",
    "    return counter_hu_data"
   ]
  },
  {
   "cell_type": "code",
   "execution_count": 4,
   "metadata": {
    "collapsed": false
   },
   "outputs": [],
   "source": [
    "def train_data_generator(data_counter, window_length, length_after,\n",
    "                         tag_chars='BM', tail_cut=100000):\n",
    "    \"\"\"Generate training data from counter data\"\"\"\n",
    "\n",
    "    word_list = []\n",
    "    c_all = 0\n",
    "    c_same_char_num = 0\n",
    "\n",
    "    for words in data_counter.most_common(tail_cut):\n",
    "        c_all += 1\n",
    "        next_word = words[0]\n",
    "        if(len(next_word) != 0 and same_char_num(next_word)):\n",
    "            c_same_char_num += 1\n",
    "            if(len(tag_chars) == 2):\n",
    "                word_list.append([next_word,\n",
    "                                  hyph_tags_4to2(hyph_tags(next_word))])\n",
    "            else:\n",
    "                word_list.append([next_word, hyph_tags(next_word)])\n",
    "    print('Data read successfully')\n",
    "    print(c_same_char_num, c_all, c_same_char_num/c_all)\n",
    "\n",
    "    # Generate network data\n",
    "    data_in = []\n",
    "    data_out = []\n",
    "    wrong_word = 0\n",
    "    for word in word_list:\n",
    "        try:\n",
    "            generate_network_data(word, data_in, data_out,\n",
    "                                  window_length, tag_chars=tag_chars,\n",
    "                                  length_after=length_after)\n",
    "        except ValueError:\n",
    "            wrong_word += 1\n",
    "    print('Data len: ', len(data_in))\n",
    "    print('Wrong words: ', wrong_word)\n",
    "\n",
    "    valid_rate = 0.2\n",
    "    test_rate = 0.1\n",
    "    data_len = len(data_in)\n",
    "\n",
    "    data_in = np.array(data_in, dtype='float32')\n",
    "    data_out = np.array(data_out, dtype='float32')\n",
    "    data_in, data_out = unison_shuffled_copies(data_in, data_out)\n",
    "    tests_input = data_in[0:int(data_len*test_rate)]\n",
    "    tests_target = data_out[0:int(data_len*test_rate)]\n",
    "    valid_input = data_in[int(data_len*test_rate):\n",
    "                          int(data_len*(test_rate+valid_rate))]\n",
    "    valid_target = data_out[int(data_len*test_rate):\n",
    "                            int(data_len*(test_rate+valid_rate))]\n",
    "    train_input = data_in[int(data_len*(test_rate+valid_rate)):]\n",
    "    train_target = data_out[int(data_len*(test_rate+valid_rate)):]\n",
    "\n",
    "    print('Training data size:', np.shape(train_input), np.shape(train_target))\n",
    "    print('Validation data size:', np.shape(valid_input),\n",
    "          np.shape(valid_target))\n",
    "    print('Test data size:', np.shape(tests_input), np.shape(tests_target))\n",
    "\n",
    "    train_input_flatten = np.reshape(\n",
    "        train_input, (len(train_input), (window_length)*len(hun_chars)))\n",
    "    valid_input_flatten = np.reshape(\n",
    "        valid_input, (len(valid_input), (window_length)*len(hun_chars)))\n",
    "    tests_input_flatten = np.reshape(\n",
    "        tests_input, (len(tests_input), (window_length)*len(hun_chars)))\n",
    "    print('Network data generated successfully')\n",
    "\n",
    "    return [train_input_flatten, train_target,\n",
    "            valid_input_flatten, valid_target,\n",
    "            tests_input_flatten, tests_target, word_list]"
   ]
  },
  {
   "cell_type": "markdown",
   "metadata": {},
   "source": [
    "# DNN Model"
   ]
  },
  {
   "cell_type": "code",
   "execution_count": 5,
   "metadata": {
    "collapsed": true
   },
   "outputs": [],
   "source": [
    "def model_creator(window_length, output_length, num_layers=1,\n",
    "                  num_hidden=10, chars=hun_chars):\n",
    "    \"\"\"Creates Keras model with the given input, output dimensions\n",
    "    and layer number, hidden layer length\"\"\"\n",
    "    model = Sequential()\n",
    "    model.add(Dense(input_dim=((window_length)*len(chars)),\n",
    "                    units=num_hidden, name='input_layer',\n",
    "                    activation='sigmoid'))\n",
    "    for i in range(1, num_layers):\n",
    "        model.add(Dense(units=num_hidden, activation='sigmoid'))\n",
    "\n",
    "    # model.add(Flatten())\n",
    "    model.add(Dense(output_length, name='output_layer', activation='softmax'))\n",
    "\n",
    "    if(output_length == 2):\n",
    "        model.compile(loss='binary_crossentropy', optimizer='adam')\n",
    "    else:\n",
    "        model.compile(loss='categorical_crossentropy', optimizer='adam')\n",
    "    return model"
   ]
  },
  {
   "cell_type": "markdown",
   "metadata": {},
   "source": [
    "# Main"
   ]
  },
  {
   "cell_type": "code",
   "execution_count": 18,
   "metadata": {
    "collapsed": false
   },
   "outputs": [
    {
     "name": "stdout",
     "output_type": "stream",
     "text": [
      "Data read successfully\n",
      "82563 83678 0.9866751117378523\n",
      "Data len:  698309\n",
      "Wrong words:  646\n",
      "Training data size: (488817, 7, 37) (488817, 2)\n",
      "Validation data size: (139662, 7, 37) (139662, 2)\n",
      "Test data size: (69830, 7, 37) (69830, 2)\n",
      "Network data generated successfully\n",
      "Model created. Start training...\n"
     ]
    }
   ],
   "source": [
    "tail_cut = 100000\n",
    "window_length = 7\n",
    "length_after = 3\n",
    "tag_chars = 'BM'\n",
    "num_layers = 5\n",
    "num_hidden = 110\n",
    "\n",
    "# Data read and network data generate\n",
    "counter_hu_data = data_reader('web2.2-freq-sorted.txt')\n",
    "[train_input_flatten, train_target,\n",
    " valid_input_flatten, valid_target,\n",
    " tests_input_flatten,\n",
    " tests_target,\n",
    " word_list] = train_data_generator(counter_hu_data,\n",
    "                                   window_length,\n",
    "                                   length_after,\n",
    "                                   tag_chars)\n",
    "\n",
    "# Creating the keras model\n",
    "model = model_creator(window_length, len(tag_chars),\n",
    "                      num_layers, num_hidden)\n",
    "print('Model created. Start training...')\n",
    "\n",
    "earlyStopping = keras.callbacks.EarlyStopping(\n",
    "    monitor='val_loss', patience=20, verbose=0, mode='auto')"
   ]
  },
  {
   "cell_type": "code",
   "execution_count": 19,
   "metadata": {
    "collapsed": false
   },
   "outputs": [],
   "source": [
    "history = model.fit(train_input_flatten, train_target,\n",
    "                    epochs=1000, batch_size=1024,\n",
    "                    validation_data=(valid_input_flatten, valid_target),\n",
    "                    verbose=0, callbacks=[earlyStopping])"
   ]
  },
  {
   "cell_type": "code",
   "execution_count": 20,
   "metadata": {
    "collapsed": false
   },
   "outputs": [
    {
     "data": {
      "image/png": "[encoded data removed]",
      "text/plain": [
       "<matplotlib.figure.Figure at 0x7f14455ac588>"
      ]
     },
     "metadata": {},
     "output_type": "display_data"
    }
   ],
   "source": [
    "# summarize history for loss\n",
    "plt.figure(figsize=(13, 5))\n",
    "plt.plot(history.history['loss'])\n",
    "plt.plot(history.history['val_loss'])\n",
    "plt.title('Model loss')\n",
    "plt.ylabel('loss')\n",
    "plt.xlabel('epoch')\n",
    "plt.legend(['train', 'validation'], loc='upper right')\n",
    "#plt.ylim((0.04, 0.06))\n",
    "plt.grid()\n",
    "plt.show()"
   ]
  },
  {
   "cell_type": "markdown",
   "metadata": {},
   "source": [
    "# Evaluation"
   ]
  },
  {
   "cell_type": "code",
   "execution_count": 21,
   "metadata": {
    "collapsed": false
   },
   "outputs": [],
   "source": [
    "test_results = model.predict(tests_input_flatten)\n",
    "test_tp = 0\n",
    "test_fp = 0\n",
    "test_tn = 0\n",
    "test_fn = 0\n",
    "test_str = \"\"\n",
    "if(np.shape(test_results)[1] == 2):\n",
    "    for i in range(len(test_results)):\n",
    "        # positive\n",
    "        if np.argmax(test_results[i]) == 1:\n",
    "            if np.argmax(tests_target[i] == 1):\n",
    "                test_tp += 1\n",
    "            else:\n",
    "                test_fp += 1\n",
    "        else:\n",
    "            if np.argmax(tests_target[i] == 1):\n",
    "                test_fn += 1\n",
    "            else:\n",
    "                test_tn += 1\n",
    "    test_precision = test_tp / (test_tp + test_fp)\n",
    "    test_recall = test_tp / (test_tp + test_fn)\n",
    "    test_Fscore = 2 * (test_precision * \n",
    "                       test_recall) / (test_precision + test_recall)\n",
    "    test_str = str(test_precision) + '\\t' + str(test_recall) \n",
    "    test_str += '\\t' + str(test_Fscore)\n",
    "else:\n",
    "    for i in range(len(test_results)):\n",
    "        if np.argmax(test_results[i]) == np.argmax(tests_target[i]):\n",
    "            test_success += 1\n",
    "        else:\n",
    "            test_fail += 1\n",
    "    test_str = str(test_fail/(test_fail+test_success))\n",
    "\n",
    "with open(\"results_prf.txt\", \"a\") as myfile:\n",
    "    result = \"\"\n",
    "    result += str(window_length) + '\\t'\n",
    "    result += str(length_after) + '\\t' + tag_chars\n",
    "    result += '\\t' + str(num_layers) + '\\t'\n",
    "    result += str(num_hidden) + '\\t'\n",
    "    result += str(history.epoch[-1]) + '\\t'\n",
    "    result += str(history.history['val_loss'][-1])\n",
    "    result += '\\t' + test_str\n",
    "    result += '\\n'\n",
    "    myfile.write(result)"
   ]
  },
  {
   "cell_type": "markdown",
   "metadata": {},
   "source": [
    "## Words"
   ]
  },
  {
   "cell_type": "code",
   "execution_count": 13,
   "metadata": {
    "collapsed": false
   },
   "outputs": [],
   "source": [
    "def hpyh_predict(word, model,\n",
    "                 length=2, length_after=0, tag_chars='BMES', aslist=False):\n",
    "    \"\"\"Generate tagging from the input word according to the model\"\"\"\n",
    "    word_in = []\n",
    "    word_out = []\n",
    "    generate_network_data([word, len(word)*tag_chars[0]],\n",
    "                          word_in, word_out, length=length,\n",
    "                          length_after=length_after, tag_chars=tag_chars)\n",
    "    word_in = np.reshape(word_in, (len(word_in), (length)*len(hun_chars)))\n",
    "    word_out = model.predict(word_in)\n",
    "    tag_list = np.array(list(tag_chars))\n",
    "    temp = np.argmax(word_out, axis=1)\n",
    "    temp = tag_list[temp]\n",
    "    if(aslist):\n",
    "        return temp\n",
    "    return \"\".join(temp)"
   ]
  },
  {
   "cell_type": "code",
   "execution_count": 18,
   "metadata": {
    "collapsed": true
   },
   "outputs": [],
   "source": [
    "hypher = pyphen.Pyphen(lang='hu_HU')"
   ]
  },
  {
   "cell_type": "code",
   "execution_count": 25,
   "metadata": {
    "collapsed": false
   },
   "outputs": [
    {
     "name": "stdout",
     "output_type": "stream",
     "text": [
      "Word: szemüveg Prediction: BMMBMBMM Target: BMMMBMMM szem-üveg\n",
      "Word: leopárd Prediction: BMBBMMM Target: BMBBMMM le-o-párd\n"
     ]
    }
   ],
   "source": [
    "test = 'szemüveg'\n",
    "print('Word:', test, 'Prediction:',\n",
    "      hpyh_predict(test, model, window_length, length_after, tag_chars),\n",
    "      'Target:', hyph_tags_4to2(hyph_tags(test)), hypher.inserted(test))\n",
    "\n",
    "test = 'leopárd'\n",
    "print('Word:', test, 'Prediction:',\n",
    "      hpyh_predict(test, model, window_length, length_after, tag_chars),\n",
    "      'Target:', hyph_tags_4to2(hyph_tags(test)), hypher.inserted(test))"
   ]
  },
  {
   "cell_type": "code",
   "execution_count": 26,
   "metadata": {
    "collapsed": false
   },
   "outputs": [
    {
     "name": "stdout",
     "output_type": "stream",
     "text": [
      "Word\tSuccess\tPrediction\tTarget\tVisualization\n",
      "Value out of dictionary range: ŕ\n",
      "szabadidőt \t False \t BMMBMBMBMM \t BMMBMMBMMM \t sza-bad-időt\n",
      "közigazgatásilag \t False \t BMBBBMMBMBMBMBMM \t BMMBMMMBMBMBMBMM \t köz-igaz-ga-tá-si-lag\n",
      "oleg \t False \t BMMM \t BMBM \t ol-eg\n",
      "rózsafüzér \t False \t BMBMMBMMMM \t BMBMMBMBMM \t ró-zsa-fü-zér\n",
      "táncszínház \t False \t BMMMMMMMBMM \t BMMMBMMMBMM \t tánc-szín-ház\n",
      "együttérzést \t False \t BMMMMBMMBMMM \t BMMMMMBMBMMM \t együtt-ér-zést\n",
      "geboren \t False \t BMBMBMM \t BMBMMMM \t ge-boren\n",
      "felosztva \t False \t BMBMMMMBM \t BMMBMMMBM \t fel-oszt-va\n",
      "beizzik \t False \t BMMMBMM \t BMBMBMM \t be-iz-zik\n",
      "integratív \t False \t BMBMMBMBMM \t BMBMBMMBMM \t in-te-gra-tív\n",
      "Value out of dictionary range: ô\n",
      "jogegyenlőség \t False \t BMBBMMMMBMBMM \t BMMBMMMMBMBMM \t jog-egyen-lő-ség\n",
      "információforrások \t False \t BMBMMBMBMBBMMBMBMM \t BMBMMBMBMMBMMBMBMM \t in-for-má-ció-for-rá-sok\n",
      "perspektívából \t False \t BMMBBMMBMBMBMM \t BMMMBMMBMBMBMM \t pers-pek-tí-vá-ból\n",
      "kialakít \t False \t BMBBMBMM \t BMBMMBMM \t ki-ala-kít\n",
      "queste \t False \t BMBMBM \t BMMMBM \t ques-te\n",
      "crossover \t False \t BMMMBMBMM \t BMMMBMMMM \t cros-sover\n",
      "teológiája \t False \t BMBBMBMBBM \t BMMBMBMBBM \t teo-ló-gi-á-ja\n",
      "szlovákiával \t False \t BMBMBMBMBBMM \t BMMMBMBMBBMM \t szlo-vá-ki-á-val\n",
      "feloldhatatlan \t False \t BMBBMMBMBMMBMM \t BMMBMMBMBMMBMM \t fel-old-ha-tat-lan\n",
      "közügy \t False \t BMBBMM \t BMMBMM \t köz-ügy\n",
      "gyermekotthon \t False \t BMMMBMBMMMBMM \t BMMMBMMBMMBMM \t gyer-mek-ott-hon\n",
      "húgyúti \t False \t BMBMMBM \t BMMMBMM \t húgy-úti\n",
      "preprocessor \t False \t BMMMBMBMMBMM \t BMMBMMBMMBMM \t pre-pro-ces-sor\n",
      "freude \t False \t BMMBBM \t BMMMBM \t freu-de\n",
      "hitelállomány \t False \t BMBMBBMBMBMMM \t BMBMMBMBMBMMM \t hi-tel-ál-lo-mány\n",
      "hianya \t False \t BMBMMM \t BMBBMM \t hi-a-nya\n",
      "felállással \t False \t BMBBMBMMBMM \t BMMBMBMMBMM \t fel-ál-lás-sal\n",
      "weboldalhoz \t False \t BMBBMBMMBMM \t BMMBMBMMBMM \t web-ol-dal-hoz\n",
      "liechtenstein \t False \t BMBMMBMMMBMBM \t BMMMMBMMMBMMM \t liech-tens-tein\n",
      "kleiner \t False \t BMMBBMM \t BMMMBMM \t klei-ner\n",
      "életútjának \t False \t BMMBMMBMBMM \t BMMMBMBMBMM \t élet-út-já-nak\n",
      "részfeladatok \t False \t BMMMBMMBBMBMM \t BMMMBMMBMMBMM \t rész-fel-ada-tok\n",
      "hauser \t False \t BMBBMM \t BMBMMM \t ha-user\n",
      "szaktanácsadással \t False \t BMMMBMBMBMMBMMBMM \t BMMMBMBMMMBMMMBMM \t szak-ta-nács-adás-sal\n",
      "önellátás \t False \t BMMMBMBMM \t BMBMBMBMM \t ön-el-lá-tás\n",
      "felolvasás \t False \t BMBBMBMBMM \t BMMBMBMBMM \t fel-ol-va-sás\n",
      "fogadóórát \t False \t BMBMBMBBMM \t BMBMBMBMMM \t fo-ga-dó-órát\n",
      "Value out of dictionary range: ô\n",
      "jogállásának \t False \t BMBMMBMBMBMM \t BMMBMBMBMBMM \t jog-ál-lá-sá-nak\n",
      "hasizom \t False \t BMBMBMM \t BMMBMMM \t has-izom\n",
      "elölhátul \t False \t BMMMBMBMM \t BMBMBMBMM \t el-öl-há-tul\n",
      "megalapozottak \t False \t BMMBBMBMBMMBMM \t BMMBMMBMBMMBMM \t meg-ala-po-zot-tak\n",
      "Value out of dictionary range: ô\n",
      "tanácsadót \t False \t BMBMBMMBMM \t BMBMMMBMMM \t ta-nács-adót\n",
      "Value out of dictionary range: ä\n",
      "Value out of dictionary range: ă\n",
      "hányingert \t False \t BMBMMMBMMM \t BMMMBMBMMM \t hány-in-gert\n",
      "Value out of dictionary range: ô\n",
      "gödörből \t False \t BMMMMBMM \t BMBMMBMM \t gö-dör-ből\n",
      "kathy \t False \t BMMMM \t BMBMM \t ka-thy\n",
      "scientiarum \t False \t BMMBMBMBBMM \t BMMBMBMMBMM \t sci-en-tia-rum\n",
      "megemlítendő \t False \t BMMMMBMBMMBM \t BMMBMBMBMMBM \t meg-em-lí-ten-dő\n",
      "Value out of dictionary range: ô\n",
      "szemüveggel \t False \t BMMBMBMMBMM \t BMMMBMMMBMM \t szem-üveg-gel\n",
      "expressing \t False \t BMMBMMBMMM \t BMMBBMBMMM \t exp-r-es-sing\n",
      "ellenőrizetlen \t False \t BMBMMMBMBMMBMM \t BMBMMBMMBMMBMM \t el-len-őri-zet-len\n"
     ]
    }
   ],
   "source": [
    "test_words = counter_hu_data.most_common()[-500:]\n",
    "print('Word\\tSuccess\\tPrediction\\tTarget\\tVisualization')\n",
    "for word in test_words:\n",
    "    next_word = word[0]\n",
    "    if(len(next_word) != 0 and same_char_num(next_word)):\n",
    "        try:\n",
    "            predicted_value = hpyh_predict(next_word, model,\n",
    "                                           window_length, length_after,\n",
    "                                           tag_chars)\n",
    "            excepted_value = hyph_tags_4to2(hyph_tags(next_word))\n",
    "            success = predicted_value == excepted_value\n",
    "            if not success:\n",
    "                print(next_word, '\\t', success, '\\t', predicted_value,\n",
    "                      '\\t', excepted_value, '\\t', hypher.inserted(next_word))\n",
    "        except ValueError as e:\n",
    "            print(str(e))"
   ]
  },
  {
   "cell_type": "markdown",
   "metadata": {
    "collapsed": false
   },
   "source": [
    "# Sandbox"
   ]
  },
  {
   "cell_type": "code",
   "execution_count": 7,
   "metadata": {
    "collapsed": true
   },
   "outputs": [],
   "source": [
    "counter_hu_data = data_reader('web2.2-freq-sorted.txt')\n",
    "hypher = pyphen.Pyphen(lang='hu_HU')"
   ]
  },
  {
   "cell_type": "code",
   "execution_count": 8,
   "metadata": {
    "collapsed": false
   },
   "outputs": [
    {
     "data": {
      "text/plain": [
       "array(['a', '', 'az', 'és', 'hogy', 'nem', 'is', 'egy', 'the', 'meg', 'de',\n",
       "       'ha', 'csak', 'ez', 'van', 'vagy', 'már', 'volt', 'of', 'még',\n",
       "       'kell', 'azt', 'el', 'mint', 'and', 'ki', 'in', 'akkor', 'minden',\n",
       "       'to', 'lehet', 'mert', 's', 'be', 'sem', 'én', 'olyan', 'ezt', 'e',\n",
       "       'magyar', 'így', 'új', 'szerint', 'nagy', 'most', 'úgy', 'jó',\n",
       "       'pedig', 'itt', 'nagyon', 'két', 'majd', 'aki', 'után', 'fel',\n",
       "       'több', 'mi', 'ami', 'lesz', 'első', 'nincs', 'között', 'amely',\n",
       "       'for', 'más', 'hanem', 'amikor', 'ilyen', 'kft', 'illetve', 'ne',\n",
       "       'amit', 'arra', 'egyik', 'es', 'alatt', 'sok', 'volna', 'i', 'le',\n",
       "       'azonban', 'azért', 'való', 'ennek', 'ő', 'által', 'ott', 'mit',\n",
       "       'saját', 'jól', 'kis', 'számára', 'valamint', 'akik', 'ezért',\n",
       "       'annak', 'igen', 'mindig', 'on', 'as'], \n",
       "      dtype='<U9')"
      ]
     },
     "execution_count": 8,
     "metadata": {},
     "output_type": "execute_result"
    }
   ],
   "source": [
    "np.array(counter_hu_data.most_common(100))[:,0]"
   ]
  },
  {
   "cell_type": "code",
   "execution_count": 9,
   "metadata": {
    "collapsed": false
   },
   "outputs": [
    {
     "name": "stdout",
     "output_type": "stream",
     "text": [
      "('almáspi', 'te')\n",
      "('almás', 'pite')\n",
      "('al', 'máspite')\n"
     ]
    }
   ],
   "source": [
    "for i in hypher.iterate('almáspite'):\n",
    "    print(i)"
   ]
  },
  {
   "cell_type": "code",
   "execution_count": 63,
   "metadata": {
    "collapsed": false
   },
   "outputs": [],
   "source": [
    "def part_hyph(word):\n",
    "    pos = hypher.positions(word)\n",
    "    if len(pos)<1:\n",
    "        return\n",
    "    if len(pos)+2==len(re.findall('[aáeéiíoóöőuúüű]',word)):\n",
    "        return\n",
    "    hyphs = []\n",
    "    hyphs.append(word[:pos[0]])\n",
    "    for i in range(len(pos)-1):\n",
    "        hyphs.append(word[pos[i]:pos[i+1]])\n",
    "    hyphs.append(word[pos[-1]:])\n",
    "    for part in hyphs:\n",
    "        mgh = len(re.findall('[aáeéiíoóöőuúüű]',part))\n",
    "        if(mgh>1):\n",
    "            part_hyph = hypher.inserted(part)\n",
    "            if len(part)<len(part_hyph):\n",
    "                print(hypher.inserted(word), part_hyph)"
   ]
  },
  {
   "cell_type": "code",
   "execution_count": 64,
   "metadata": {
    "collapsed": false
   },
   "outputs": [
    {
     "name": "stdout",
     "output_type": "stream",
     "text": [
      "euro-pe-an eu-ro\n",
      "euro-pe eu-ro\n",
      "emo-tiko-nok ti-ko\n",
      "re-g-istra-ti-on ist-ra\n",
      "home-page ho-me\n",
      "shakes-peare sha-kes\n",
      "mail-to-maisersz-ec-he-nyink-zsa-su-li-net-hu maiser-sz\n",
      "open-of-fice-org fi-ce\n",
      "shakes-pearei sha-kes\n",
      "note-book no-te\n",
      "http-ha-ku-son-e-rapla-zaf rap-la\n",
      "provi-sions pr-ovi\n",
      "moun-tain ta-in\n",
      "httpwww-ma-levo-le-comm le-vo\n",
      "li-baudio-fi-le bau-dio\n",
      "ad-mi-nistra-tive nist-ra\n",
      "eins-tein te-in\n",
      "ch-ris-tina ti-na\n",
      "moun-tains ta-ins\n",
      "open-of-fice fi-ce\n",
      "égale-ment ég-ale\n",
      "witt-gen-s-tein te-in\n",
      "share-ware sha-re\n",
      "an-nakide-jén na-ki-de\n",
      "mailt-ran-spor-tagent tag-ent\n",
      "aut-hori-za-ti-on ho-ri\n",
      "at-lan-tióce-án tió-ce\n",
      "over-come co-me\n",
      "geor-gia-pa-ci-fic ge-or\n",
      "his-toris-c-hen to-ris\n",
      "note-boo-kok no-te\n",
      "geor-gia ge-or\n",
      "con-centra-tions cent-ra\n",
      "note-boo no-te\n",
      "mar-seille se-ille\n",
      "note-boo-kom no-te\n",
      "disap-peared di-sap\n",
      "sour-ce-for-geon ge-on\n",
      "or-gapache-ca-ta-li-na-co-restan-dard-pi-pe-line res-tan\n",
      "exa-mining mi-ning\n",
      "eva-luat-ing lu-at\n",
      "disap-pear di-sap\n",
      "alias-es ali-as\n",
      "cor-pora-tions po-ra\n",
      "ch-ipse-tes ip-se\n",
      "itali-en ita-li\n",
      "th-reat-e-ned re-at\n",
      "zaří-zení ze-ní\n",
      "kö-zé-pázsi-ai pá-zsi\n",
      "amade-us ama-de\n",
      "explain-ing expla-in\n",
      "eu-roast-ra ro-ast\n",
      "kulcsalak-ja kulcsa-lak\n",
      "liech-tens-tein te-in\n"
     ]
    }
   ],
   "source": [
    "for word in np.array(counter_hu_data.most_common(100000))[:,0]:\n",
    "    part_hyph(word)"
   ]
  },
  {
   "cell_type": "code",
   "execution_count": 54,
   "metadata": {
    "collapsed": false
   },
   "outputs": [
    {
     "data": {
      "text/plain": [
       "2"
      ]
     },
     "execution_count": 54,
     "metadata": {},
     "output_type": "execute_result"
    }
   ],
   "source": [
    "len(re.findall('[aáeéiíoóöőuúüű]','üveg'))"
   ]
  },
  {
   "cell_type": "code",
   "execution_count": null,
   "metadata": {
    "collapsed": false
   },
   "outputs": [],
   "source": []
  },
  {
   "cell_type": "code",
   "execution_count": null,
   "metadata": {
    "collapsed": false
   },
   "outputs": [],
   "source": []
  },
  {
   "cell_type": "code",
   "execution_count": null,
   "metadata": {
    "collapsed": true
   },
   "outputs": [],
   "source": []
  },
  {
   "cell_type": "code",
   "execution_count": null,
   "metadata": {
    "collapsed": false
   },
   "outputs": [],
   "source": []
  },
  {
   "cell_type": "code",
   "execution_count": null,
   "metadata": {
    "collapsed": true
   },
   "outputs": [],
   "source": []
  }
 ],
 "metadata": {
  "kernelspec": {
   "display_name": "Python 3",
   "language": "python",
   "name": "python3"
  },
  "language_info": {
   "codemirror_mode": {
    "name": "ipython",
    "version": 3
   },
   "file_extension": ".py",
   "mimetype": "text/x-python",
   "name": "python",
   "nbconvert_exporter": "python",
   "pygments_lexer": "ipython3",
   "version": "3.5.2"
  }
 },
 "nbformat": 4,
 "nbformat_minor": 1
}
