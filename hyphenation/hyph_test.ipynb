{
 "cells": [
  {
   "cell_type": "code",
   "execution_count": 1,
   "metadata": {
    "collapsed": false
   },
   "outputs": [
    {
     "name": "stderr",
     "output_type": "stream",
     "text": [
      "Using Theano backend.\n"
     ]
    }
   ],
   "source": [
    "import pyphen\n",
    "import string\n",
    "import re\n",
    "import collections\n",
    "\n",
    "import numpy as np\n",
    "\n",
    "from keras.models import Sequential\n",
    "from keras.layers import Dense, Flatten\n",
    "import keras\n",
    "\n",
    "import matplotlib.pyplot as plt\n",
    "%matplotlib inline"
   ]
  },
  {
   "cell_type": "code",
   "execution_count": 2,
   "metadata": {
    "collapsed": true
   },
   "outputs": [],
   "source": [
    "hypher = pyphen.Pyphen(lang='hu_HU')"
   ]
  },
  {
   "cell_type": "code",
   "execution_count": 3,
   "metadata": {
    "collapsed": false
   },
   "outputs": [],
   "source": [
    "def hyph_tags(word, hypher=pyphen.Pyphen(lang='hu_HU'), aslist=False):\n",
    "    \"\"\"Hyphenating classification of the characters in the word. {B(egin),M(iddle),E(nd),S(ingle)}\"\"\"\n",
    "    if(len(word)==0):\n",
    "        raise IndexError(\"0 length word\")\n",
    "    ret = list('M' * len(word))\n",
    "    ret[0]='B'\n",
    "    ret[-1]='E'\n",
    "    for i in hypher.positions(word):\n",
    "        ret[i]='B'\n",
    "        if(ret[i-1]=='B'):\n",
    "            ret[i-1]='S'\n",
    "        else:\n",
    "            ret[i-1]='E'\n",
    "    if(aslist):\n",
    "        return ret\n",
    "    return \"\".join(ret)\n",
    "\n",
    "def hyph_tags_4to2(word, aslist=False):\n",
    "    \"\"\"{B,M,E,S} to {B, M}\"\"\"\n",
    "    ret = list(word)\n",
    "    for i in range(len(ret)):\n",
    "        if ret[i]=='S':\n",
    "            ret[i]='B'       \n",
    "        if ret[i]!='B':\n",
    "            ret[i]='M'\n",
    "    if(aslist):\n",
    "        return ret\n",
    "    return \"\".join(ret)   \n",
    "\n",
    "def same_char_num(word, hypher=pyphen.Pyphen(lang='hu_HU')):\n",
    "    \"\"\"Return true if the hyphenated word has as many chars as the original\"\"\"\n",
    "    return len(hypher.inserted(word))==len(word)+len(hypher.positions(word))\n",
    "\n",
    "def cleaning(data):\n",
    "    \"\"\"Text cleaning:\n",
    "        lower the letters\n",
    "        punctuation, digits ellimination\"\"\"\n",
    "    formated_data = data.lower()\n",
    "    formated_data = re.sub('['+string.punctuation+']','',formated_data)\n",
    "    formated_data = re.sub('['+string.digits+']','',formated_data)\n",
    "    return formated_data"
   ]
  },
  {
   "cell_type": "markdown",
   "metadata": {},
   "source": [
    "# Data import"
   ]
  },
  {
   "cell_type": "code",
   "execution_count": 23,
   "metadata": {
    "collapsed": false
   },
   "outputs": [],
   "source": [
    "counter_hu_data = collections.Counter()\n",
    "word_list = []\n",
    "c_all = 0\n",
    "c_same_char_num = 0\n",
    "with open('web2.2-freq-sorted.txt','r',errors='ignore',encoding='latin2') as f:\n",
    "    i = 0\n",
    "    for line in f:\n",
    "        i = i+1\n",
    "        words = line.split()\n",
    "        if len(words)>1:\n",
    "            if(words[1].isdigit()):\n",
    "                counter_hu_data[cleaning(words[0])]+=int(words[1])\n",
    "        if i>100500:\n",
    "            break\n",
    "for words in counter_hu_data.most_common(100000):\n",
    "    c_all+=1\n",
    "    next_word = words[0]\n",
    "    if(len(next_word)!=0 and same_char_num(next_word)):\n",
    "        c_same_char_num+=1\n",
    "        #print(next_word, hyph_tags(next_word), hyph_tags_4to2(hyph_tags(next_word)))\n",
    "        word_list.append([next_word,hyph_tags_4to2(hyph_tags(next_word))])"
   ]
  },
  {
   "cell_type": "code",
   "execution_count": 5,
   "metadata": {
    "collapsed": false
   },
   "outputs": [
    {
     "name": "stdout",
     "output_type": "stream",
     "text": [
      "82181 83286 0.9867324640395745\n"
     ]
    }
   ],
   "source": [
    "print(c_same_char_num,c_all,c_same_char_num/c_all)"
   ]
  },
  {
   "cell_type": "code",
   "execution_count": 6,
   "metadata": {
    "collapsed": false
   },
   "outputs": [
    {
     "name": "stdout",
     "output_type": "stream",
     "text": [
      "[['ember', 'BMBMM'], ['ezek', 'BMMM'], ['tovább', 'BMBMMM'], ['vagyok', 'BMBMMM'], ['ma', 'BM'], ['miatt', 'BMBMM'], ['this', 'BMMM'], ['mellett', 'BMMBMMM'], ['vannak', 'BMMBMM'], ['by', 'BM'], ['alapján', 'BMMMBMM'], ['lenne', 'BMMBM'], ['with', 'BMMM'], ['that', 'BMMM'], ['tehát', 'BMBMM'], ['te', 'BM'], ['it', 'BM'], ['ben', 'BMM'], ['egész', 'BMMMM'], ['néhány', 'BMBMMM'], ['milyen', 'BMBMMM'], ['át', 'BM'], ['nekem', 'BMBMM'], ['előtt', 'BMMMM'], ['ezzel', 'BMBMM'], ['mivel', 'BMBMM'], ['ezen', 'BMMM'], ['nélkül', 'BMMBMM'], ['lett', 'BMMM'], ['stb', 'BMM'], ['you', 'BMM'], ['viszont', 'BMBMMMM'], ['év', 'BM'], ['teljes', 'BMMBMM'], ['erre', 'BMBM'], ['hiszen', 'BMBMMM'], ['másik', 'BMBMM'], ['ebben', 'BMBMM'], ['mind', 'BMMM'], ['der', 'BMM'], ['három', 'BMBMM'], ['talán', 'BMBMM'], ['valami', 'BMBMBM'], ['die', 'BMM'], ['bár', 'BMM'], ['are', 'BMM'], ['legyen', 'BMBMMM'], ['tudom', 'BMBMM'], ['from', 'BMMM'], ['inkább', 'BMBMMM'], ['során', 'BMBMM'], ['például', 'BMMBMBM'], ['rá', 'BM'], ['m', 'M'], ['persze', 'BMMBMM'], ['pl', 'BM'], ['mely', 'BMMM'], ['azok', 'BMMM'], ['áll', 'BMM'], ['szerintem', 'BMMBMMBMM'], ['miért', 'BMBMM'], ['jelenleg', 'BMBMMBMM'], ['aztán', 'BMBMM'], ['c', 'M'], ['na', 'BM'], ['ft', 'BM'], ['európai', 'BMBMBMM'], ['nagyobb', 'BMBMMMM'], ['adott', 'BMMMM'], ['akár', 'BMMM'], ['elég', 'BMMM'], ['se', 'BM'], ['éves', 'BMMM'], ['fontos', 'BMMBMM'], ['amelyek', 'BMMBMMM'], ['együtt', 'BMMMMM'], ['éppen', 'BMBMM'], ['szükséges', 'BMMMBMBMM'], ['hát', 'BMM'], ['megfelelő', 'BMMBMBMBM'], ['őket', 'BMMM'], ['neki', 'BMBM'], ['szó', 'BMM'], ['program', 'BMMMBMM'], ['nap', 'BMM'], ['jobb', 'BMMM'], ['további', 'BMBMMBM'], ['ahogy', 'BMMMM'], ['teljesen', 'BMMBMBMM'], ['hozzá', 'BMMBM'], ['következő', 'BMBMMBMBM'], ['maga', 'BMBM'], ['or', 'BM'], ['rt', 'BM'], ['egyes', 'BMMMM'], ['benne', 'BMMBM'], ['esetén', 'BMMBMM'], ['különböző', 'BMBMMBMBM'], ['belül', 'BMBMM'], ['all', 'BMM']]\n"
     ]
    }
   ],
   "source": [
    "print(word_list[100:200])"
   ]
  },
  {
   "cell_type": "markdown",
   "metadata": {},
   "source": [
    "# Data preparation"
   ]
  },
  {
   "cell_type": "code",
   "execution_count": 39,
   "metadata": {
    "collapsed": false
   },
   "outputs": [],
   "source": [
    "#onehot: {'B','M','E','S'}\n",
    "def one_hot_encode(char,dictionary='BMES'):\n",
    "    ret = [0]*len(dictionary)\n",
    "    if char in dictionary:\n",
    "        ret[dictionary.find(char)]=1\n",
    "        return ret\n",
    "    raise ValueError('Value out of dictionary range: '+char)\n",
    "def unison_shuffled_copies(a, b):\n",
    "    \"\"\"Randomize 2 same length array in the same permutation\"\"\"\n",
    "    assert len(a) == len(b)\n",
    "    p = np.random.permutation(len(a))\n",
    "    return a[p], b[p]\n",
    "def one_hot_decode(arr,dictionary='BMES'):\n",
    "    assert len(arr)==len(dictionary)\n",
    "    i = np.nonzero(arr)[0][0]\n",
    "    return dictionary[i]"
   ]
  },
  {
   "cell_type": "code",
   "execution_count": 8,
   "metadata": {
    "collapsed": false
   },
   "outputs": [],
   "source": [
    "hun_chars='aábcdeéfghiíjklmnoóöőpqrstuúüűvwxyz'+'^$' # ^,$\n",
    "def generate_network_data(data, ret_input = [],ret_output=[],length = 2, length_after=0, start_char='^', end_char='$', chars=hun_chars, tag_chars='BMES'):\n",
    "    \"\"\"from [word,hyph_class(word) to length-long input-output data\"\"\"\n",
    "    word = data[0]\n",
    "    word_plus = start_char*(length-length_after-1)+word+end_char*length_after\n",
    "    hyph_word = data[1]\n",
    "    for i in range(0,len(word)):\n",
    "        input_next_iter = []\n",
    "        for c in word_plus[i:i+length]:\n",
    "            input_next_iter.append(one_hot_encode(c,chars))\n",
    "        output_next_iter = one_hot_encode(hyph_word[i],tag_chars)\n",
    "        ret_input.append(input_next_iter)\n",
    "        ret_output.append(output_next_iter)"
   ]
  },
  {
   "cell_type": "code",
   "execution_count": 9,
   "metadata": {
    "collapsed": false
   },
   "outputs": [
    {
     "name": "stdout",
     "output_type": "stream",
     "text": [
      "[[0, 0, 0, 0, 0, 0, 0, 0, 0, 0, 0, 0, 0, 0, 0, 0, 0, 0, 0, 0, 0, 0, 0, 0, 0, 0, 0, 0, 0, 0, 0, 0, 0, 0, 0, 1, 0], [1, 0, 0, 0, 0, 0, 0, 0, 0, 0, 0, 0, 0, 0, 0, 0, 0, 0, 0, 0, 0, 0, 0, 0, 0, 0, 0, 0, 0, 0, 0, 0, 0, 0, 0, 0, 0], [0, 0, 0, 0, 0, 0, 0, 0, 0, 0, 0, 0, 0, 0, 1, 0, 0, 0, 0, 0, 0, 0, 0, 0, 0, 0, 0, 0, 0, 0, 0, 0, 0, 0, 0, 0, 0]] [1, 0, 0, 0]\n"
     ]
    }
   ],
   "source": [
    "wc_in=[]\n",
    "wc_out=[]\n",
    "\n",
    "generate_network_data(['alma','BEBE'],wc_in, wc_out,3,1)\n",
    "print(wc_in[0],wc_out[0])"
   ]
  },
  {
   "cell_type": "code",
   "execution_count": 10,
   "metadata": {
    "collapsed": true
   },
   "outputs": [],
   "source": [
    "window_length = 5\n",
    "length_after = 2\n",
    "tag_chars='BM'"
   ]
  },
  {
   "cell_type": "code",
   "execution_count": 11,
   "metadata": {
    "collapsed": false
   },
   "outputs": [
    {
     "name": "stdout",
     "output_type": "stream",
     "text": [
      "Data len:  695071\n",
      "Wrong words:  640\n"
     ]
    }
   ],
   "source": [
    "data_in = []\n",
    "data_out = []\n",
    "wrong_word = 0\n",
    "for word in word_list:\n",
    "    try:\n",
    "        generate_network_data(word,data_in,data_out,window_length, tag_chars=tag_chars, length_after=length_after)\n",
    "    except ValueError:\n",
    "        wrong_word+=1\n",
    "print('Data len: ',len(data_in))\n",
    "print('Wrong words: ',wrong_word)"
   ]
  },
  {
   "cell_type": "code",
   "execution_count": 12,
   "metadata": {
    "collapsed": false
   },
   "outputs": [
    {
     "name": "stdout",
     "output_type": "stream",
     "text": [
      "Training data size: (486550, 5, 37) (486550, 2)\n",
      "Validation data size: (139014, 5, 37) (139014, 2)\n",
      "Test data size: (69507, 5, 37) (69507, 2)\n"
     ]
    }
   ],
   "source": [
    "valid_rate=0.2\n",
    "test_rate=0.1\n",
    "data_len = len(data_in)\n",
    "data_in = np.array(data_in,dtype='float32')\n",
    "data_out = np.array(data_out,dtype='float32')\n",
    "data_in, data_out = unison_shuffled_copies(data_in,data_out)\n",
    "tests_input = data_in[0:int (data_len*test_rate)]\n",
    "tests_target= data_out[0:int(data_len*test_rate)]\n",
    "valid_input = data_in[int (data_len*test_rate) : int (data_len*(test_rate+valid_rate))]\n",
    "valid_target= data_out[int(data_len*test_rate): int (data_len*(test_rate+valid_rate))]\n",
    "train_input = data_in[int (data_len*(test_rate+valid_rate)):]\n",
    "train_target= data_out[int(data_len*(test_rate+valid_rate)):]\n",
    "\n",
    "\n",
    "print('Training data size:',np.shape(train_input), np.shape(train_target))\n",
    "print('Validation data size:',np.shape(valid_input), np.shape(valid_target))\n",
    "print('Test data size:',np.shape(tests_input), np.shape(tests_target))"
   ]
  },
  {
   "cell_type": "code",
   "execution_count": 13,
   "metadata": {
    "collapsed": false
   },
   "outputs": [],
   "source": [
    "train_input_flatten = np.reshape(train_input,(len(train_input),(window_length)*len(hun_chars)))\n",
    "valid_input_flatten = np.reshape(valid_input,(len(valid_input),(window_length)*len(hun_chars)))"
   ]
  },
  {
   "cell_type": "markdown",
   "metadata": {},
   "source": [
    "# DNN Model"
   ]
  },
  {
   "cell_type": "code",
   "execution_count": 14,
   "metadata": {
    "collapsed": false
   },
   "outputs": [],
   "source": [
    "model = Sequential()\n",
    "model.add(Dense(input_dim=((window_length)*len(hun_chars)), \n",
    "                units=10, name='input_layer',activation='sigmoid'))\n",
    "model.add(Dense(units=10, activation='sigmoid'))\n",
    "\n",
    "#model.add(Flatten())\n",
    "model.add(Dense(2,name='output_layer', activation='softmax'))"
   ]
  },
  {
   "cell_type": "code",
   "execution_count": 15,
   "metadata": {
    "collapsed": false
   },
   "outputs": [
    {
     "data": {
      "text/plain": [
       "(486550, 185)"
      ]
     },
     "execution_count": 15,
     "metadata": {},
     "output_type": "execute_result"
    }
   ],
   "source": [
    "train_input_flatten.shape"
   ]
  },
  {
   "cell_type": "code",
   "execution_count": 16,
   "metadata": {
    "collapsed": true
   },
   "outputs": [],
   "source": [
    "earlyStopping=keras.callbacks.EarlyStopping(monitor='val_loss', patience=20, verbose=0, mode='auto')"
   ]
  },
  {
   "cell_type": "code",
   "execution_count": 17,
   "metadata": {
    "collapsed": false
   },
   "outputs": [],
   "source": [
    "model.compile(loss='categorical_crossentropy',optimizer='adam')"
   ]
  },
  {
   "cell_type": "code",
   "execution_count": 18,
   "metadata": {
    "collapsed": false
   },
   "outputs": [],
   "source": [
    "history = model.fit(train_input_flatten,train_target, epochs=1000, batch_size=1024,\n",
    "                    validation_data=(valid_input_flatten,valid_target), verbose=0,\n",
    "                   shuffle= True, callbacks=[earlyStopping])"
   ]
  },
  {
   "cell_type": "code",
   "execution_count": 19,
   "metadata": {
    "collapsed": false
   },
   "outputs": [
    {
     "data": {
      "image/png": "[encoded data removed]",
      "text/plain": [
       "<matplotlib.figure.Figure at 0x7fd3763122e8>"
      ]
     },
     "metadata": {},
     "output_type": "display_data"
    }
   ],
   "source": [
    "# summarize history for loss\n",
    "plt.figure(figsize=(13, 5))\n",
    "plt.plot(history.history['loss'])\n",
    "plt.plot(history.history['val_loss'])\n",
    "plt.title('Model loss')\n",
    "plt.ylabel('loss')\n",
    "plt.xlabel('epoch')\n",
    "plt.legend(['train', 'validation'], loc='upper right')\n",
    "plt.ylim((0.04,0.06))\n",
    "plt.grid()\n",
    "plt.show()"
   ]
  },
  {
   "cell_type": "code",
   "execution_count": 20,
   "metadata": {
    "collapsed": false
   },
   "outputs": [
    {
     "name": "stdout",
     "output_type": "stream",
     "text": [
      "[0.051090545455218114, 0.05108600013562719, 0.051045206793427923, 0.050913301042554579, 0.050958658210848634, 0.051157831201706312, 0.050971649737758869, 0.05098911266591874, 0.050974587002753272, 0.051090630357396194] 269\n"
     ]
    }
   ],
   "source": [
    "print(history.history['val_loss'][-10:],history.epoch[-1])"
   ]
  },
  {
   "cell_type": "code",
   "execution_count": 21,
   "metadata": {
    "collapsed": false
   },
   "outputs": [],
   "source": [
    "def hpyh_predict(word, model, length = 2, length_after = 0, tag_chars = 'BMES', aslist = False):\n",
    "    word_in =[]\n",
    "    word_out = []\n",
    "    generate_network_data([word,len(word)*tag_chars[0]],word_in,word_out, length=length, length_after=length_after, tag_chars=tag_chars)\n",
    "    word_in = np.reshape(word_in,(len(word_in),(length)*len(hun_chars)))\n",
    "    word_out = model.predict(word_in)\n",
    "    tag_list = np.array(list(tag_chars))\n",
    "    temp = np.argmax(word_out, axis=1)\n",
    "    temp = tag_list[temp]\n",
    "    if(aslist):\n",
    "        return temp\n",
    "    return \"\".join(temp)  "
   ]
  },
  {
   "cell_type": "code",
   "execution_count": 31,
   "metadata": {
    "collapsed": false
   },
   "outputs": [
    {
     "name": "stdout",
     "output_type": "stream",
     "text": [
      "Word: szemüveg Prediction: BMMBMBMM Target: BMMMBMMM szem-üveg\n",
      "Word: leopárd Prediction: BMBBMMM Target: BMBBMMM le-o-párd\n"
     ]
    }
   ],
   "source": [
    "test = 'szemüveg'\n",
    "print('Word:',test,'Prediction:',hpyh_predict(test,model,window_length,length_after,tag_chars),\n",
    "      'Target:',hyph_tags_4to2(hyph_tags(test)), hypher.inserted(test))\n",
    "test = 'leopárd'\n",
    "print('Word:',test,'Prediction:',hpyh_predict(test,model,window_length,length_after,tag_chars),\n",
    "      'Target:',hyph_tags_4to2(hyph_tags(test)),hypher.inserted(test))"
   ]
  },
  {
   "cell_type": "code",
   "execution_count": 44,
   "metadata": {
    "collapsed": false
   },
   "outputs": [
    {
     "name": "stdout",
     "output_type": "stream",
     "text": [
      "Word\tSuccess\tPrediction\tTarget\tVisualization\n",
      "Value out of dictionary range: ŕ\n",
      "együttérzést \t False \t BMMMMBBMBMMM \t BMMMMMBMBMMM \t együtt-ér-zést\n",
      "Value out of dictionary range: ô\n",
      "táncszínház \t False \t BMMMMMMMBMM \t BMMMBMMMBMM \t tánc-szín-ház\n",
      "geboren \t False \t BMBMBMM \t BMBMMMM \t ge-boren\n",
      "organisms \t False \t BMBMBMMMM \t BMBMMBMMM \t or-gan-isms\n",
      "oleg \t False \t BMMM \t BMBM \t ol-eg\n",
      "közigazgatásilag \t False \t BMMBBMMBMBMBMBMM \t BMMBMMMBMBMBMBMM \t köz-igaz-ga-tá-si-lag\n",
      "Value out of dictionary range: ô\n",
      "integratív \t False \t BMBMMBMBMM \t BMBMBMMBMM \t in-te-gra-tív\n",
      "randevút \t False \t BMMMMBMM \t BMMBMBMM \t ran-de-vút\n",
      "newsgroups \t False \t BMMMMMMBMM \t BMMMMBMBMM \t newsg-ro-ups\n",
      "crossover \t False \t BMMMBMBMM \t BMMMBMMMM \t cros-sover\n",
      "curiosity \t False \t BMBMBBBMM \t BMBMBBMMM \t cu-ri-o-sity\n",
      "mediumsized \t False \t BMBMMMBMBMM \t BMBMBMBMBMM \t me-di-um-si-zed\n",
      "gyermekotthon \t False \t BMMMBMBMMMBMM \t BMMMBMMBMMBMM \t gyer-mek-ott-hon\n",
      "freude \t False \t BMMBMM \t BMMMBM \t freu-de\n",
      "húgyúti \t False \t BMBMMBM \t BMMMBMM \t húgy-úti\n",
      "hianya \t False \t BMBMMM \t BMBBMM \t hi-a-nya\n",
      "szlovákiával \t False \t BMBMBMBMBBMM \t BMMMBMBMBBMM \t szlo-vá-ki-á-val\n",
      "preprocessor \t False \t BMMMBMBMMBMM \t BMMBMMBMMBMM \t pre-pro-ces-sor\n",
      "dízelmotorral \t False \t BMMMMBMBMMBMM \t BMBMMBMBMMBMM \t dí-zel-mo-tor-ral\n",
      "kleiner \t False \t BMMBBMM \t BMMMBMM \t klei-ner\n",
      "kigúvadt \t False \t BMBBMMMM \t BMBMBMMM \t ki-gú-vadt\n",
      "liechtenstein \t False \t BMBMMBMMMBMBM \t BMMMMBMMMBMMM \t liech-tens-tein\n",
      "életútjának \t False \t BMMMMMBMBMM \t BMMMBMBMBMM \t élet-út-já-nak\n",
      "jogállásának \t False \t BMBBMBMBMBMM \t BMMBMBMBMBMM \t jog-ál-lá-sá-nak\n",
      "hasizom \t False \t BMBMBMM \t BMMBMMM \t has-izom\n",
      "önellátás \t False \t BMMMBMBMM \t BMBMBMBMM \t ön-el-lá-tás\n",
      "hauser \t False \t BMMBBM \t BMBMMM \t ha-user\n",
      "Value out of dictionary range: ô\n",
      "elindítom \t False \t BMMMBMBMM \t BMBMBMBMM \t el-in-dí-tom\n",
      "szaktanácsadással \t False \t BMMMBMBMMMMBMMBMM \t BMMMBMBMMMBMMMBMM \t szak-ta-nács-adás-sal\n",
      "elölhátul \t False \t BMMMBMBMM \t BMBMBMBMM \t el-öl-há-tul\n",
      "deklarálja \t False \t BMMBBBMMBM \t BMMBMBMMBM \t dek-la-rál-ja\n",
      "Value out of dictionary range: ô\n",
      "shoulders \t False \t BMMMMBMMM \t BMMBMBMMM \t sho-ul-ders\n",
      "tényezőre \t False \t BMBMMMMBM \t BMBMMBMBM \t té-nye-ző-re\n",
      "Value out of dictionary range: ä\n",
      "tanácsadót \t False \t BMBMMMMBMM \t BMBMMMBMMM \t ta-nács-adót\n",
      "Value out of dictionary range: ô\n",
      "scientiarum \t False \t BMMBMBMBBMM \t BMMBMBMMBMM \t sci-en-tia-rum\n",
      "Value out of dictionary range: ô\n",
      "kirakjuk \t False \t BMMMMBMM \t BMBMMBMM \t ki-rak-juk\n",
      "hányingert \t False \t BMBMMMBMMM \t BMMMBMBMMM \t hány-in-gert\n",
      "hexadecimal \t False \t BMBBBMBMBMM \t BMBMBMBMBMM \t he-xa-de-ci-mal\n",
      "kathy \t False \t BMMMM \t BMBMM \t ka-thy\n",
      "Value out of dictionary range: ă\n",
      "sociale \t False \t BMBMBBM \t BMBMBMM \t so-ci-ale\n",
      "tranzisztort \t False \t BMMMBMMMMMMM \t BMMMBMMMBMMM \t tran-zisz-tort\n",
      "expressing \t False \t BMMBMMBMMM \t BMMBBMBMMM \t exp-r-es-sing\n",
      "imbolygó \t False \t BMBMBMBM \t BMBMMMBM \t im-boly-gó\n",
      "szemüveggel \t False \t BMMBMBMMBMM \t BMMMBMMMBMM \t szem-üveg-gel\n",
      "disquettes \t False \t BMMBMMMBMM \t BMMBMBMBMM \t dis-qu-et-tes\n"
     ]
    }
   ],
   "source": [
    "test_words = counter_hu_data.most_common()[-500:]\n",
    "print('Word\\tSuccess\\tPrediction\\tTarget\\tVisualization')\n",
    "for word in test_words:\n",
    "    next_word = word[0]\n",
    "    if(len(next_word)!=0 and same_char_num(next_word)):\n",
    "        try:\n",
    "            predicted_value = hpyh_predict(next_word,model,window_length,length_after,tag_chars)\n",
    "            excepted_value = hyph_tags_4to2(hyph_tags(next_word))\n",
    "            success = predicted_value==excepted_value\n",
    "            if not success:\n",
    "                print(next_word,'\\t',success,'\\t',predicted_value,\n",
    "                  '\\t',excepted_value,'\\t',hypher.inserted(next_word))\n",
    "        except ValueError as e:\n",
    "            print(str(e))"
   ]
  },
  {
   "cell_type": "code",
   "execution_count": null,
   "metadata": {
    "collapsed": true
   },
   "outputs": [],
   "source": []
  }
 ],
 "metadata": {
  "kernelspec": {
   "display_name": "Python 3",
   "language": "python",
   "name": "python3"
  },
  "language_info": {
   "codemirror_mode": {
    "name": "ipython",
    "version": 3
   },
   "file_extension": ".py",
   "mimetype": "text/x-python",
   "name": "python",
   "nbconvert_exporter": "python",
   "pygments_lexer": "ipython3",
   "version": "3.5.2"
  }
 },
 "nbformat": 4,
 "nbformat_minor": 1
}
