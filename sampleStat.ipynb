{
 "cells": [
  {
   "cell_type": "markdown",
   "metadata": {},
   "source": [
    "# Character and word statistics"
   ]
  },
  {
   "cell_type": "markdown",
   "metadata": {
    "collapsed": true
   },
   "source": [
    "Import hungarian dataset from the Europarl corpus"
   ]
  },
  {
   "cell_type": "code",
   "execution_count": 12,
   "metadata": {
    "collapsed": true
   },
   "outputs": [],
   "source": [
    "with open(\"europarl-v7.hu-en.hu\") as f:\n",
    "    data=f.read()"
   ]
  },
  {
   "cell_type": "markdown",
   "metadata": {},
   "source": [
    "## Character count"
   ]
  },
  {
   "cell_type": "markdown",
   "metadata": {},
   "source": [
    "Implemented caracter counter function(1.0 version available in my GitHub)"
   ]
  },
  {
   "cell_type": "code",
   "execution_count": 16,
   "metadata": {
    "collapsed": false
   },
   "outputs": [],
   "source": [
    "def ccount(data):\n",
    "    \"\"\"Counts the caracters of the input data \n",
    "    and return with a dictionary\"\"\"\n",
    "\n",
    "    dic = {}  # dictionary for the letters\n",
    "    # read lines of the data\n",
    "    for line in data:\n",
    "        # python 3 reads in unicode, no decode needed\n",
    "        line = line.rstrip()  # cuts eol character\n",
    "        line = line.lower()  # lower the letters\n",
    "        \n",
    "        for letter in line:\n",
    "            if (dic.get(letter) == None):\n",
    "                # first of this letter, make new dict row\n",
    "                dic[letter] = 1\n",
    "            else:\n",
    "                dic[letter] += 1\n",
    "    return dic"
   ]
  },
  {
   "cell_type": "code",
   "execution_count": 17,
   "metadata": {
    "collapsed": true
   },
   "outputs": [],
   "source": [
    "let = ccount(data)"
   ]
  },
  {
   "cell_type": "markdown",
   "metadata": {},
   "source": [
    "Print hungarian letters without collections"
   ]
  },
  {
   "cell_type": "code",
   "execution_count": 19,
   "metadata": {
    "collapsed": false
   },
   "outputs": [
    {
     "name": "stdout",
     "output_type": "stream",
     "text": [
      "a\t7084967\n",
      "á\t2894062\n",
      "b\t1478574\n",
      "c\t462545\n",
      "d\t1306115\n",
      "e\t8203680\n",
      "é\t3003374\n",
      "f\t643738\n",
      "g\t2893824\n",
      "h\t1182503\n",
      "i\t3407577\n",
      "í\t442054\n",
      "j\t882748\n",
      "k\t4248346\n",
      "l\t5221778\n",
      "m\t2543074\n",
      "n\t4819240\n",
      "o\t3459473\n",
      "ó\t893265\n",
      "ö\t934971\n",
      "ő\t688045\n",
      "p\t923507\n",
      "q\t906\n",
      "r\t3161357\n",
      "s\t5067694\n",
      "t\t6028816\n",
      "u\t885024\n",
      "ú\t261862\n",
      "ü\t545872\n",
      "ű\t118155\n",
      "v\t1404767\n",
      "w\t8683\n",
      "x\t13222\n",
      "y\t1749944\n",
      "z\t3685623\n"
     ]
    }
   ],
   "source": [
    "# Use the Hungarian letters\n",
    "hunletters = \"aábcdeéfghiíjklmnoóöőpqrstuúüűvwxyz\"\n",
    "for l in hunletters:\n",
    "    if (let.get(l) != None):\n",
    "        print(l+'\\t'+str(let.get(l)))"
   ]
  },
  {
   "cell_type": "markdown",
   "metadata": {},
   "source": [
    "Store all character count in reversed order"
   ]
  },
  {
   "cell_type": "code",
   "execution_count": 26,
   "metadata": {
    "collapsed": false
   },
   "outputs": [],
   "source": [
    "with open(\"ccount1.txt\",'w') as f:\n",
    "    for l in sorted(let, key=let.get, reverse=True):\n",
    "        f.write(l+'\\t'+str(let[l])+'\\n')"
   ]
  },
  {
   "cell_type": "code",
   "execution_count": null,
   "metadata": {
    "collapsed": true
   },
   "outputs": [],
   "source": []
  }
 ],
 "metadata": {
  "kernelspec": {
   "display_name": "Python 3",
   "language": "python",
   "name": "python3"
  },
  "language_info": {
   "codemirror_mode": {
    "name": "ipython",
    "version": 3
   },
   "file_extension": ".py",
   "mimetype": "text/x-python",
   "name": "python",
   "nbconvert_exporter": "python",
   "pygments_lexer": "ipython3",
   "version": "3.5.2"
  }
 },
 "nbformat": 4,
 "nbformat_minor": 1
}
