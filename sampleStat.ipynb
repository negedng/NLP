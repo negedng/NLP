{
 "cells": [
  {
   "cell_type": "markdown",
   "metadata": {},
   "source": [
    "# Character and word statistics"
   ]
  },
  {
   "cell_type": "markdown",
   "metadata": {
    "collapsed": true
   },
   "source": [
    "Import hungarian dataset from the Europarl corpus"
   ]
  },
  {
   "cell_type": "code",
   "execution_count": 1,
   "metadata": {
    "collapsed": true
   },
   "outputs": [],
   "source": [
    "with open(\"europarl-v7.hu-en.hu\") as f:\n",
    "    data=f.read()"
   ]
  },
  {
   "cell_type": "markdown",
   "metadata": {},
   "source": [
    "## Character count"
   ]
  },
  {
   "cell_type": "markdown",
   "metadata": {},
   "source": [
    "Implemented caracter counter function(1.0 version available in my GitHub)"
   ]
  },
  {
   "cell_type": "code",
   "execution_count": 2,
   "metadata": {
    "collapsed": false
   },
   "outputs": [],
   "source": [
    "def ccount(data):\n",
    "    \"\"\"Counts the caracters of the input data \n",
    "    and return with a dictionary\"\"\"\n",
    "\n",
    "    dic = {}  # dictionary for the letters\n",
    "    # read lines of the data\n",
    "    for line in data:\n",
    "        # python 3 reads in unicode, no decode needed\n",
    "        line = line.rstrip()  # cuts eol character\n",
    "        \n",
    "        for letter in line:\n",
    "            if (dic.get(letter) == None):\n",
    "                # first of this letter, make new dict row\n",
    "                dic[letter] = 1\n",
    "            else:\n",
    "                dic[letter] += 1\n",
    "    return dic"
   ]
  },
  {
   "cell_type": "code",
   "execution_count": 3,
   "metadata": {
    "collapsed": true
   },
   "outputs": [],
   "source": [
    "let = ccount(data)"
   ]
  },
  {
   "cell_type": "markdown",
   "metadata": {},
   "source": [
    "Print hungarian letters without collections"
   ]
  },
  {
   "cell_type": "code",
   "execution_count": 4,
   "metadata": {
    "collapsed": false
   },
   "outputs": [
    {
     "name": "stdout",
     "output_type": "stream",
     "text": [
      "a\t6840021\n",
      "á\t2886283\n",
      "b\t1387471\n",
      "c\t440233\n",
      "d\t1281426\n",
      "e\t7894051\n",
      "é\t2990777\n",
      "f\t615501\n",
      "g\t2871752\n",
      "h\t1144215\n",
      "i\t3376987\n",
      "í\t436824\n",
      "j\t870237\n",
      "k\t4188091\n",
      "l\t5188434\n",
      "m\t2472473\n",
      "n\t4771358\n",
      "o\t3438481\n",
      "ó\t893015\n",
      "ö\t917330\n",
      "ő\t686808\n",
      "p\t857815\n",
      "q\t614\n",
      "r\t3135243\n",
      "s\t4987457\n",
      "t\t5953707\n",
      "u\t800158\n",
      "ú\t251007\n",
      "ü\t542149\n",
      "ű\t118122\n",
      "v\t1376381\n",
      "w\t4580\n",
      "x\t12050\n",
      "y\t1749436\n",
      "z\t3678700\n"
     ]
    }
   ],
   "source": [
    "# Use the Hungarian letters\n",
    "hunletters = \"aábcdeéfghiíjklmnoóöőpqrstuúüűvwxyz\"\n",
    "for l in hunletters:\n",
    "    if (let.get(l) != None):\n",
    "        print(l+'\\t'+str(let.get(l)))"
   ]
  },
  {
   "cell_type": "markdown",
   "metadata": {},
   "source": [
    "Store all character count in reversed order"
   ]
  },
  {
   "cell_type": "code",
   "execution_count": 5,
   "metadata": {
    "collapsed": false
   },
   "outputs": [],
   "source": [
    "with open(\"ccount1.txt\",'w') as f:\n",
    "    for l in sorted(let, key=let.get, reverse=True):\n",
    "        f.write(l+'\\t'+str(let[l])+'\\n')"
   ]
  },
  {
   "cell_type": "markdown",
   "metadata": {},
   "source": [
    "### Using standard library\n",
    "* Collections for the counter\n",
    "* re to delete whitespaces with Regular Expression"
   ]
  },
  {
   "cell_type": "code",
   "execution_count": 6,
   "metadata": {
    "collapsed": true
   },
   "outputs": [],
   "source": [
    "import collections\n",
    "import re"
   ]
  },
  {
   "cell_type": "code",
   "execution_count": 7,
   "metadata": {
    "collapsed": false
   },
   "outputs": [],
   "source": [
    "formatedData = re.sub(r\"\\s+\", \"\", data, flags=re.UNICODE)\n",
    "formatedData = formatedData.lower()\n",
    "cCnt = collections.Counter()\n",
    "\n",
    "for c in formatedData:\n",
    "    cCnt[c]+=1"
   ]
  },
  {
   "cell_type": "code",
   "execution_count": 8,
   "metadata": {
    "collapsed": true
   },
   "outputs": [],
   "source": [
    "with open(\"ccount2.txt\",'w') as f:\n",
    "    for c in cCnt.most_common():\n",
    "        f.write(c[0]+'\\t'+str(c[1])+'\\n')"
   ]
  },
  {
   "cell_type": "markdown",
   "metadata": {},
   "source": [
    "### Visualization\n",
    "* Using matplotlib for the visualisation\n",
    "* Using numpy for the array manipulation"
   ]
  },
  {
   "cell_type": "code",
   "execution_count": 9,
   "metadata": {
    "collapsed": false
   },
   "outputs": [
    {
     "data": {
      "image/png": "[encoded data removed]",
      "text/plain": [
       "<matplotlib.figure.Figure at 0x7fb2b856ada0>"
      ]
     },
     "metadata": {},
     "output_type": "display_data"
    }
   ],
   "source": [
    "import matplotlib.pyplot as plt\n",
    "import numpy as np\n",
    "%matplotlib inline\n",
    "\n",
    "lts = np.ones(35)\n",
    "for i in range(len(hunletters)):\n",
    "    lts[i]=let.get(hunletters[i])\n",
    "    \n",
    "plt.bar(range(0,35), lts)\n",
    "plt.xticks(range(0,35), hunletters)\n",
    "plt.show()"
   ]
  },
  {
   "cell_type": "markdown",
   "metadata": {},
   "source": [
    "## Word count"
   ]
  },
  {
   "cell_type": "markdown",
   "metadata": {},
   "source": [
    "Formating the words into set of lowercase strings"
   ]
  },
  {
   "cell_type": "code",
   "execution_count": 10,
   "metadata": {
    "collapsed": false
   },
   "outputs": [],
   "source": [
    "words = data.split()\n",
    "for i in range(len(words)):\n",
    "    #for w in words: makes a copy and hard to find its origin\n",
    "    words[i]=words[i].strip()"
   ]
  },
  {
   "cell_type": "code",
   "execution_count": 11,
   "metadata": {
    "collapsed": true
   },
   "outputs": [],
   "source": [
    "def wcount(data):\n",
    "    \"\"\"Counts the words of the input set \n",
    "    and return with a dictionary\"\"\"\n",
    "\n",
    "    dic = {}  # dictionary for the words\n",
    "    # read rows of the data\n",
    "    for word in data:\n",
    "        if (dic.get(word) == None):\n",
    "            # first of this word, make new dict row\n",
    "            dic[word] = 1\n",
    "        else:\n",
    "            dic[word] += 1\n",
    "    return dic"
   ]
  },
  {
   "cell_type": "code",
   "execution_count": 12,
   "metadata": {
    "collapsed": true
   },
   "outputs": [],
   "source": [
    "wor = wcount(words)"
   ]
  },
  {
   "cell_type": "code",
   "execution_count": 13,
   "metadata": {
    "collapsed": true
   },
   "outputs": [],
   "source": [
    "with open(\"wcount1.txt\",'w') as f:\n",
    "    for w in sorted(wor, key=wor.get, reverse=True):\n",
    "        f.write(w+'\\t'+str(wor[w])+'\\n')"
   ]
  },
  {
   "cell_type": "markdown",
   "metadata": {},
   "source": [
    "### Using standard library"
   ]
  },
  {
   "cell_type": "code",
   "execution_count": 14,
   "metadata": {
    "collapsed": true
   },
   "outputs": [],
   "source": [
    "import collections"
   ]
  },
  {
   "cell_type": "code",
   "execution_count": 15,
   "metadata": {
    "collapsed": false
   },
   "outputs": [],
   "source": [
    "wCnt = collections.Counter()\n",
    "for w in words:\n",
    "    wCnt[w]+=1"
   ]
  },
  {
   "cell_type": "code",
   "execution_count": 16,
   "metadata": {
    "collapsed": false
   },
   "outputs": [],
   "source": [
    "with open(\"wcount2.txt\",'w') as f:\n",
    "    for w in wCnt.most_common():\n",
    "        f.write(w[0]+'\\t'+str(w[1])+'\\n')"
   ]
  },
  {
   "cell_type": "markdown",
   "metadata": {
    "collapsed": true
   },
   "source": [
    "## Text cleaning\n",
    "* lower the letters\n",
    "* delete punctuation\n",
    "* convert numbers to _NUM_ tokens"
   ]
  },
  {
   "cell_type": "code",
   "execution_count": 17,
   "metadata": {
    "collapsed": true
   },
   "outputs": [],
   "source": [
    "import string"
   ]
  },
  {
   "cell_type": "code",
   "execution_count": 18,
   "metadata": {
    "collapsed": true
   },
   "outputs": [],
   "source": [
    "def cleaning(data):\n",
    "    \"\"\"Text cleaning: \n",
    "        lower the letters\n",
    "        punctuation\n",
    "        numbers to _NUM_ tokens\"\"\"\n",
    "    formated_data = data.lower()\n",
    "    #remove elements in string.punctation with regex\n",
    "    formated_data = re.sub('['+string.punctuation+']', '', formated_data)\n",
    "    #replace 1..n number with regex\n",
    "    formated_data = re.sub('['+string.digits+']+','_NUM_',formated_data)\n",
    "    return formated_data"
   ]
  },
  {
   "cell_type": "code",
   "execution_count": 19,
   "metadata": {
    "collapsed": false
   },
   "outputs": [
    {
     "data": {
      "text/plain": [
       "'mit sütsz kis szűcs tán sós _NUM_ húst sütsz kis _NUM_ _NUM_ _NUM_ szűcs egyszer _NUM_ királyfi elment _NUM_e_NUM_ kapálni totoroo steinsgate'"
      ]
     },
     "execution_count": 19,
     "metadata": {},
     "output_type": "execute_result"
    }
   ],
   "source": [
    "text = \"Mit sütsz kis szűcs, tán sós 99 húst sütsz kis 1 2 3 szűcs? Egyszer 1 királyfi, elment 4e5 kapálni! To-to-roo! Steins;Gate\"\n",
    "cleaning(text)"
   ]
  },
  {
   "cell_type": "code",
   "execution_count": 20,
   "metadata": {
    "collapsed": true
   },
   "outputs": [],
   "source": [
    "data2=cleaning(data)"
   ]
  },
  {
   "cell_type": "markdown",
   "metadata": {},
   "source": [
    "### Character count"
   ]
  },
  {
   "cell_type": "code",
   "execution_count": 21,
   "metadata": {
    "collapsed": true
   },
   "outputs": [],
   "source": [
    "let2 = ccount(data2)\n",
    "\n",
    "with open(\"ccount_formated.txt\",'w') as f:\n",
    "    for l in sorted(let2, key=let2.get, reverse=True):\n",
    "        f.write(l+'\\t'+str(let2[l])+'\\n')"
   ]
  },
  {
   "cell_type": "markdown",
   "metadata": {},
   "source": [
    "### Word count"
   ]
  },
  {
   "cell_type": "code",
   "execution_count": 22,
   "metadata": {
    "collapsed": true
   },
   "outputs": [],
   "source": [
    "words2 = data2.split()\n",
    "\n",
    "for i in range(len(words2)):\n",
    "    #for w in words: makes a copy and hard to find its origin\n",
    "    words2[i]=words2[i].strip()\n",
    "    \n",
    "wor2= wcount(words2)\n",
    "with open(\"wcount_formated.txt\",'w') as f:\n",
    "    for w in sorted(wor2, key=wor2.get, reverse=True):\n",
    "        f.write(w+'\\t'+str(wor2[w])+'\\n')"
   ]
  },
  {
   "cell_type": "markdown",
   "metadata": {},
   "source": [
    "## Long tail\n",
    "Replace rare words with tokens"
   ]
  },
  {
   "cell_type": "code",
   "execution_count": 136,
   "metadata": {
    "collapsed": false
   },
   "outputs": [],
   "source": [
    "def remove_rare(data, rare_threshold=5,rare_token=\"_RARE_\"):\n",
    "    \"\"\"Replace rare words with token\"\"\"\n",
    "    data_count = wcount(data)\n",
    "    \n",
    "    l = 1\n",
    "    keep_words = []\n",
    "    for w in sorted(data_count, key=data_count.get):\n",
    "        if data_count[w]>=rare_threshold:\n",
    "            keep_words.append(w)\n",
    "    \n",
    "    print(\"Keep {0} word type\".format(len(keep_words)))\n",
    "    \n",
    "    for i in range(len(data)):\n",
    "        keep = False\n",
    "        for w in keep_words:\n",
    "            if data[i]==w:\n",
    "                keep=True\n",
    "                break\n",
    "        if not keep:\n",
    "            data[i]=rare_token\n",
    "        \n",
    "    return data"
   ]
  },
  {
   "cell_type": "code",
   "execution_count": 137,
   "metadata": {
    "collapsed": false
   },
   "outputs": [],
   "source": [
    "asd = \"A A A A A A A A A B B B B B C C D D D D D D E F F GGG GGG GGG GGG GGG\"\n",
    "asd_split = asd.split()\n",
    "for i in range(0,12000):\n",
    "    asd_split.append(\"K\")"
   ]
  },
  {
   "cell_type": "code",
   "execution_count": 147,
   "metadata": {
    "collapsed": false
   },
   "outputs": [
    {
     "name": "stdout",
     "output_type": "stream",
     "text": [
      "Keep 6 word type\n"
     ]
    }
   ],
   "source": [
    "remove_rare(asd_split);"
   ]
  },
  {
   "cell_type": "markdown",
   "metadata": {},
   "source": [
    "### Word count with long tail replacement"
   ]
  },
  {
   "cell_type": "code",
   "execution_count": 146,
   "metadata": {
    "collapsed": false
   },
   "outputs": [
    {
     "name": "stdout",
     "output_type": "stream",
     "text": [
      "Keep 114 word type\n"
     ]
    }
   ],
   "source": [
    "words3 = remove_rare(words2,10000)\n",
    "\n",
    "wor3= wcount(words3)\n",
    "with open(\"wcount_replaced.txt\",'w') as f:\n",
    "    for w in sorted(wor3, key=wor3.get, reverse=True):\n",
    "        f.write(w+'\\t'+str(wor3[w])+'\\n')"
   ]
  },
  {
   "cell_type": "code",
   "execution_count": 110,
   "metadata": {
    "collapsed": false
   },
   "outputs": [
    {
     "data": {
      "text/plain": [
       "93513264"
      ]
     },
     "execution_count": 110,
     "metadata": {},
     "output_type": "execute_result"
    }
   ],
   "source": [
    "len(data2)"
   ]
  },
  {
   "cell_type": "code",
   "execution_count": null,
   "metadata": {
    "collapsed": false
   },
   "outputs": [],
   "source": []
  },
  {
   "cell_type": "code",
   "execution_count": null,
   "metadata": {
    "collapsed": true
   },
   "outputs": [],
   "source": []
  }
 ],
 "metadata": {
  "kernelspec": {
   "display_name": "Python 3",
   "language": "python",
   "name": "python3"
  },
  "language_info": {
   "codemirror_mode": {
    "name": "ipython",
    "version": 3
   },
   "file_extension": ".py",
   "mimetype": "text/x-python",
   "name": "python",
   "nbconvert_exporter": "python",
   "pygments_lexer": "ipython3",
   "version": "3.5.2"
  }
 },
 "nbformat": 4,
 "nbformat_minor": 1
}
